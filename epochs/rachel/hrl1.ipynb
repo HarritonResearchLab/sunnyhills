{
 "cells": [
  {
   "cell_type": "code",
   "execution_count": 1,
   "metadata": {},
   "outputs": [],
   "source": [
    "import pandas as pd \n",
    "import matplotlib.pyplot as plt \n",
    "import numpy as np\n",
    "from matplotlib import ticker"
   ]
  },
  {
   "cell_type": "code",
   "execution_count": 5,
   "metadata": {},
   "outputs": [
    {
     "data": {
      "image/png": "[encoded data removed]",
      "text/plain": [
       "<Figure size 432x288 with 1 Axes>"
      ]
     },
     "metadata": {
      "needs_background": "light"
     },
     "output_type": "display_data"
    }
   ],
   "source": [
    "df = pd.read_csv('/Users/rachelmiyamoto/Documents/GitHub/sunnyhills/data/full_key.csv')\n",
    "distance_list=df['Distance']\n",
    "plt.hist(distance_list, edgecolor='black')\n",
    "plt.xlabel('Distances of stars [parsecs]')\n",
    "plt.ylabel('frequency')\n",
    "plt.show()"
   ]
  },
  {
   "cell_type": "code",
   "execution_count": 8,
   "metadata": {},
   "outputs": [
    {
     "data": {
      "image/png": "[encoded data removed]",
      "text/plain": [
       "<Figure size 432x288 with 1 Axes>"
      ]
     },
     "metadata": {
      "needs_background": "light"
     },
     "output_type": "display_data"
    }
   ],
   "source": [
    "plt.subplots()\n",
    "filtered_data=distance_list[~np.isnan(distance_list)]\n",
    "plt.boxplot(filtered_data, vert=False)\n",
    "plt.title('Stellar Distances')\n",
    "plt.xlabel('distances (parsecs)')\n",
    "plt.show()"
   ]
  },
  {
   "cell_type": "code",
   "execution_count": 9,
   "metadata": {},
   "outputs": [
    {
     "name": "stdout",
     "output_type": "stream",
     "text": [
      "mean: 210.01170183603693\n",
      "median: 202.22467590000002\n",
      "Standard.deviation: 73.92535302240357\n",
      "Q1: 146.1988304\n",
      "Q3: 278.551532\n",
      "IQR: 132.35270160000002\n"
     ]
    },
    {
     "ename": "NameError",
     "evalue": "name 'scipy' is not defined",
     "output_type": "error",
     "traceback": [
      "\u001b[0;31m---------------------------------------------------------------------------\u001b[0m",
      "\u001b[0;31mNameError\u001b[0m                                 Traceback (most recent call last)",
      "\u001b[0;32m/var/folders/1p/cjjy4b7d22lgk6ppkv64mn7m0000gn/T/ipykernel_10630/3171518902.py\u001b[0m in \u001b[0;36m<module>\u001b[0;34m\u001b[0m\n\u001b[1;32m     17\u001b[0m \u001b[0mprint\u001b[0m\u001b[0;34m(\u001b[0m\u001b[0;34m\"IQR:\"\u001b[0m\u001b[0;34m,\u001b[0m\u001b[0mIQR\u001b[0m\u001b[0;34m)\u001b[0m\u001b[0;34m\u001b[0m\u001b[0;34m\u001b[0m\u001b[0m\n\u001b[1;32m     18\u001b[0m \u001b[0;34m\u001b[0m\u001b[0m\n\u001b[0;32m---> 19\u001b[0;31m \u001b[0mKurtosis\u001b[0m\u001b[0;34m=\u001b[0m\u001b[0mscipy\u001b[0m\u001b[0;34m.\u001b[0m\u001b[0mstats\u001b[0m\u001b[0;34m.\u001b[0m\u001b[0mkurtosis\u001b[0m\u001b[0;34m(\u001b[0m\u001b[0mfiltered_data\u001b[0m\u001b[0;34m)\u001b[0m\u001b[0;34m\u001b[0m\u001b[0;34m\u001b[0m\u001b[0m\n\u001b[0m\u001b[1;32m     20\u001b[0m \u001b[0mprint\u001b[0m\u001b[0;34m(\u001b[0m\u001b[0;34m\"Kurtosis:\"\u001b[0m\u001b[0;34m,\u001b[0m \u001b[0mKurtosis\u001b[0m\u001b[0;34m)\u001b[0m\u001b[0;34m\u001b[0m\u001b[0;34m\u001b[0m\u001b[0m\n\u001b[1;32m     21\u001b[0m \u001b[0;34m\u001b[0m\u001b[0m\n",
      "\u001b[0;31mNameError\u001b[0m: name 'scipy' is not defined"
     ]
    }
   ],
   "source": [
    "mean=np.mean([filtered_data])\n",
    "print(\"mean:\", mean)\n",
    "\n",
    "median=np.median([filtered_data])\n",
    "print(\"median:\", median)\n",
    "\n",
    "Standard_deviation=np.std([filtered_data])\n",
    "print(\"Standard.deviation:\", Standard_deviation)\n",
    "\n",
    "Q1=np.percentile(filtered_data, 25)\n",
    "print(\"Q1:\", Q1)\n",
    "\n",
    "Q3=np.percentile(filtered_data, 75)\n",
    "print(\"Q3:\",Q3)\n",
    "\n",
    "IQR=Q3-Q1\n",
    "print(\"IQR:\",IQR)\n",
    "\n",
    "Kurtosis=scipy.stats.kurtosis(filtered_data)\n",
    "print(\"Kurtosis:\", Kurtosis)\n",
    "\n",
    "skew=scipy.stats.skew(filtered_data)\n",
    "print(\"skew:\", skew)"
   ]
  }
 ],
 "metadata": {
  "interpreter": {
   "hash": "aee8b7b246df8f9039afb4144a1f6fd8d2ca17a180786b69acc140d282b71a49"
  },
  "kernelspec": {
   "display_name": "Python 3.9.7 64-bit",
   "language": "python",
   "name": "python3"
  },
  "language_info": {
   "codemirror_mode": {
    "name": "ipython",
    "version": 3
   },
   "file_extension": ".py",
   "mimetype": "text/x-python",
   "name": "python",
   "nbconvert_exporter": "python",
   "pygments_lexer": "ipython3",
   "version": "3.9.7"
  },
  "orig_nbformat": 4
 },
 "nbformat": 4,
 "nbformat_minor": 2
}
