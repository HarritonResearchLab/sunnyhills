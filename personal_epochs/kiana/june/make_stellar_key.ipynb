{
 "cells": [
  {
   "cell_type": "code",
   "execution_count": 1,
   "metadata": {},
   "outputs": [],
   "source": [
    "import pandas as pd\n",
    "import os"
   ]
  },
  {
   "cell_type": "code",
   "execution_count": 2,
   "metadata": {},
   "outputs": [
    {
     "name": "stdout",
     "output_type": "stream",
     "text": [
      "Original 'input.csv' CSV Data: \n",
      "\n",
      "\n",
      "CSV Data after deleting the column 'loc_rowid', 'sy_pnum', 'disc_year', 'pl_controv_flag', 'pl_orbper', 'pl_radj':\n",
      "\n",
      "         pl_name hostname  sy_snum st_spectype         rastr          ra  \\\n",
      "0       11 Com b   11 Com        2      G8 III  12h20m42.91s  185.178779   \n",
      "1       11 Com b   11 Com        2         NaN  12h20m42.91s  185.178779   \n",
      "2       11 UMi b   11 UMi        1         NaN  15h17m05.90s  229.274595   \n",
      "3       11 UMi b   11 UMi        1         NaN  15h17m05.90s  229.274595   \n",
      "4       11 UMi b   11 UMi        1      K4 III  15h17m05.90s  229.274595   \n",
      "...          ...      ...      ...         ...           ...         ...   \n",
      "32537  ups And d  ups And        2        F8 V  01h36m47.60s   24.198353   \n",
      "32538  ups And d  ups And        2         NaN  01h36m47.60s   24.198353   \n",
      "32539  ups Leo b  ups Leo        1      G9 III  11h36m56.93s  174.237219   \n",
      "32540   xi Aql b   xi Aql        1         NaN  19h54m14.99s  298.562449   \n",
      "32541   xi Aql b   xi Aql        1         NaN  19h54m14.99s  298.562449   \n",
      "\n",
      "              decstr        dec   sy_dist  sy_vmag  sy_kmag  sy_gaiamag  \\\n",
      "0      +17d47m35.71s  17.793252   93.1846  4.72307    2.282     4.44038   \n",
      "1      +17d47m35.71s  17.793252   93.1846  4.72307    2.282     4.44038   \n",
      "2      +71d49m26.19s  71.823943  125.3210  5.01300    1.939     4.56216   \n",
      "3      +71d49m26.19s  71.823943  125.3210  5.01300    1.939     4.56216   \n",
      "4      +71d49m26.19s  71.823943  125.3210  5.01300    1.939     4.56216   \n",
      "...              ...        ...       ...      ...      ...         ...   \n",
      "32537  +41d24m13.73s  41.403815   13.4054  4.09565    2.859     3.98687   \n",
      "32538  +41d24m13.73s  41.403815   13.4054  4.09565    2.859     3.98687   \n",
      "32539  -00d49m24.83s  -0.823564   52.5973  4.30490    2.184     4.03040   \n",
      "32540  +08d27m39.98s   8.461105   56.1858  4.70964    2.171     4.42501   \n",
      "32541  +08d27m39.98s   8.461105   56.1858  4.70964    2.171     4.42501   \n",
      "\n",
      "       sy_tmag releasedate  \n",
      "0      3.83790  2014-05-14  \n",
      "1      3.83790  2014-07-23  \n",
      "2      3.82294  2014-07-23  \n",
      "3      3.82294  2018-09-06  \n",
      "4      3.82294  2014-05-14  \n",
      "...        ...         ...  \n",
      "32537  3.61370  2014-09-18  \n",
      "32538  3.61370  2014-08-21  \n",
      "32539  3.44620  2022-01-10  \n",
      "32540  3.81440  2014-07-23  \n",
      "32541  3.81440  2014-05-14  \n",
      "\n",
      "[32542 rows x 14 columns]\n"
     ]
    }
   ],
   "source": [
    "data = pd.read_csv('C:/Users/Kiana/OneDrive/Documents/GitHub/sunnyhills/personal_epochs/veronica/may/validation/tess nasa exo archive confirmed.csv')\n",
    "#why do we do directory again? what does it mean?\n",
    "\n",
    "#Get rid of some columns\n",
    "print(\"Original 'input.csv' CSV Data: \\n\")\n",
    "\n",
    "data.drop('loc_rowid', inplace=True, axis=1)\n",
    "data.drop('sy_pnum', inplace=True, axis=1)\n",
    "data.drop('disc_year', inplace=True, axis=1)\n",
    "data.drop('pl_controv_flag', inplace=True, axis=1)\n",
    "data.drop('pl_orbper', inplace=True, axis=1)\n",
    "data.drop('pl_radj', inplace=True, axis=1)\n",
    "\n",
    "print(\"\\nCSV Data after deleting the column 'loc_rowid', 'sy_pnum', 'disc_year', 'pl_controv_flag', 'pl_orbper', 'pl_radj':\\n\")\n",
    "print(data)"
   ]
  },
  {
   "cell_type": "code",
   "execution_count": 3,
   "metadata": {},
   "outputs": [
    {
     "name": "stdout",
     "output_type": "stream",
     "text": [
      "                            pl_name                   hostname  sy_snum  \\\n",
      "20                         17 Sco b                     17 Sco        1   \n",
      "27                         24 Boo b                     24 Boo        1   \n",
      "31     2MASS J01033563-5515561 AB b  2MASS J01033563-5515561 A        2   \n",
      "34        2MASS J02192210-3925225 b    2MASS J02192210-3925225        1   \n",
      "30                         2M0437 b    2MASS J04372171+2651014        1   \n",
      "...                             ...                        ...      ...   \n",
      "32495                     ome Ser b                    ome Ser        2   \n",
      "32496                     omi CrB b                    omi CrB        1   \n",
      "32497                     omi UMa b                    omi UMa        2   \n",
      "32503                 psi 1 Dra B b                psi 1 Dra B        3   \n",
      "32539                     ups Leo b                    ups Leo        1   \n",
      "\n",
      "      st_spectype         rastr          ra         decstr        dec  \\\n",
      "20         K3 III  16h13m50.90s  243.462087  -11d50m16.05s -11.837791   \n",
      "27          G3 IV  14h28m37.33s  217.155524  +49d50m40.74s  49.844649   \n",
      "31        M5.5/M6  01h03m35.82s   15.899249  -55d15m56.98s -55.265829   \n",
      "34             M6  02h19m22.25s   34.842705  -39d25m23.08s -39.423077   \n",
      "30            M V  04h37m21.73s   69.340553  +26d51m01.08s  26.850300   \n",
      "...           ...           ...         ...            ...        ...   \n",
      "32495      G8 III  15h50m17.58s  237.573242  +02d11m46.69s   2.196304   \n",
      "32496         NaN  15h20m08.42s  230.035077  +29d36m57.68s  29.616022   \n",
      "32497         NaN  08h30m15.59s  127.564950  +60d43m03.74s  60.717705   \n",
      "32503        G0 V  17h41m58.22s  265.492575  +72d09m20.56s  72.155711   \n",
      "32539      G9 III  11h36m56.93s  174.237219  -00d49m24.83s  -0.823564   \n",
      "\n",
      "        sy_dist   sy_vmag    sy_kmag  sy_gaiamag   sy_tmag releasedate  \n",
      "20     124.9530   5.22606   2.094000     4.75429   3.97655  2021-10-25  \n",
      "27      95.9863   5.59000   3.159000     5.33390   4.78120  2018-04-26  \n",
      "31          NaN  15.78800   9.237001         NaN  12.08900  2020-09-03  \n",
      "34          NaN       NaN  10.404000    15.01230  13.43040  2015-05-14  \n",
      "30     128.4840  16.18600  10.386000    14.33740  13.01230  2021-12-13  \n",
      "...         ...       ...        ...         ...       ...         ...  \n",
      "32495   76.7556   5.21644   2.929000     4.92833   4.32500  2014-05-14  \n",
      "32496   84.7883   5.50520   2.934000     5.22055   4.61690  2015-09-03  \n",
      "32497   54.9149   3.35214   1.339000     3.14432   2.60700  2015-09-03  \n",
      "32503   22.7188   5.80800   4.527000     5.64766   5.28630  2015-12-17  \n",
      "32539   52.5973   4.30490   2.184000     4.03040   3.44620  2022-01-10  \n",
      "\n",
      "[504 rows x 14 columns]\n"
     ]
    }
   ],
   "source": [
    "#Get rid of repeating rows\n",
    "data.sort_values('hostname', inplace=True)\n",
    "data.drop_duplicates(subset = 'hostname', keep = False, inplace = True)\n",
    "print(data)\n"
   ]
  }
 ],
 "metadata": {
  "interpreter": {
   "hash": "2129c99c912eb1fdcc9674e65df3d14e70db4ce4338ae978eb4d3c08539f352f"
  },
  "kernelspec": {
   "display_name": "Python 3.8.10 64-bit (windows store)",
   "language": "python",
   "name": "python3"
  },
  "language_info": {
   "codemirror_mode": {
    "name": "ipython",
    "version": 3
   },
   "file_extension": ".py",
   "mimetype": "text/x-python",
   "name": "python",
   "nbconvert_exporter": "python",
   "pygments_lexer": "ipython3",
   "version": "3.8.10"
  },
  "orig_nbformat": 4
 },
 "nbformat": 4,
 "nbformat_minor": 2
}
