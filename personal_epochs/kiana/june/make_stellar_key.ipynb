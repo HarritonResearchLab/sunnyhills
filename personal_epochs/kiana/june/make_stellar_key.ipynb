{
 "cells": [
  {
   "cell_type": "code",
   "execution_count": 15,
   "metadata": {},
   "outputs": [],
   "source": [
    "import pandas as pd\n",
    "import os"
   ]
  },
  {
   "cell_type": "code",
   "execution_count": null,
   "metadata": {},
   "outputs": [],
   "source": [
    "data = pd.read_csv('C:/Users/Kiana/OneDrive/Documents/GitHub/sunnyhills/personal_epochs/veronica/may/validation/tess nasa exo archive confirmed.csv')\n",
    "#why do we do directory again? what does it mean?\n",
    "\n",
    "#Get rid of some columns\n",
    "print(\"Original 'input.csv' CSV Data: \\n\")\n",
    "\n",
    "data.drop('loc_rowid', inplace=True, axis=1)\n",
    "data.drop('sy_pnum', inplace=True, axis=1)\n",
    "data.drop('disc_year', inplace=True, axis=1)\n",
    "data.drop('pl_controv_flag', inplace=True, axis=1)\n",
    "data.drop('pl_orbper', inplace=True, axis=1)\n",
    "data.drop('pl_radj', inplace=True, axis=1)\n",
    "\n",
    "print(\"\\nCSV Data after deleting the column 'loc_rowid', 'sy_pnum', 'disc_year', 'pl_controv_flag', 'pl_orbper', 'pl_radj':\\n\")\n",
    "print(data)"
   ]
  },
  {
   "cell_type": "code",
   "execution_count": null,
   "metadata": {},
   "outputs": [],
   "source": [
    "#Get rid of repeating rows\n",
    "data.sort_values('hostname', inplace=True)\n",
    "data.drop_duplicates(subset = 'hostname', keep = False, inplace = True)\n",
    "print(data)\n"
   ]
  }
 ],
 "metadata": {
  "interpreter": {
   "hash": "2129c99c912eb1fdcc9674e65df3d14e70db4ce4338ae978eb4d3c08539f352f"
  },
  "kernelspec": {
   "display_name": "Python 3.8.10 64-bit (windows store)",
   "language": "python",
   "name": "python3"
  },
  "language_info": {
   "codemirror_mode": {
    "name": "ipython",
    "version": 3
   },
   "file_extension": ".py",
   "mimetype": "text/x-python",
   "name": "python",
   "nbconvert_exporter": "python",
   "pygments_lexer": "ipython3",
   "version": "3.8.10"
  },
  "orig_nbformat": 4
 },
 "nbformat": 4,
 "nbformat_minor": 2
}
