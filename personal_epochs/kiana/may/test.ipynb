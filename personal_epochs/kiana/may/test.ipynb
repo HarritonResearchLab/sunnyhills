{
 "cells": [
  {
   "cell_type": "code",
   "execution_count": 13,
   "metadata": {},
   "outputs": [],
   "source": [
    "import matplotlib as plt\n",
    "import os\n",
    "import warnings\n",
    "import pandas as pd\n",
    "#ctrl alt enter"
   ]
  },
  {
   "cell_type": "code",
   "execution_count": null,
   "metadata": {},
   "outputs": [],
   "source": [
    "directory = 'C:/Users/Kiana/OneDrive/Documents/GitHub/sunnyhills/data/current/processed/two_min_lightcurves'\n",
    "\n",
    "two_min_lightcurves = []\n",
    "\n",
    "#get rid of .gitkeep and get rid of .csv\n",
    "for filename in os.listdir(directory):\n",
    "    print(two_min_lightcurves)\n",
    "    if filename.__contains__('gitkeep'):\n",
    "        warnings.warn('This is not a csv file!')\n",
    "    else:\n",
    "           new_file = filename.replace('.csv', '')\n",
    "           two_min_lightcurves.append(new_file)\n",
    "    \n",
    "print(two_min_lightcurves)"
   ]
  },
  {
   "cell_type": "code",
   "execution_count": 15,
   "metadata": {},
   "outputs": [],
   "source": [
    "#Making a csv key\n",
    "df = pd.DataFrame(two_min_lightcurves)\n",
    "\n",
    "df.to_csv('lightcurve_key.csv')\n"
   ]
  }
 ],
 "metadata": {
  "interpreter": {
   "hash": "2129c99c912eb1fdcc9674e65df3d14e70db4ce4338ae978eb4d3c08539f352f"
  },
  "kernelspec": {
   "display_name": "Python 3.8.10 64-bit (windows store)",
   "language": "python",
   "name": "python3"
  },
  "language_info": {
   "codemirror_mode": {
    "name": "ipython",
    "version": 3
   },
   "file_extension": ".py",
   "mimetype": "text/x-python",
   "name": "python",
   "nbconvert_exporter": "python",
   "pygments_lexer": "ipython3",
   "version": "3.8.10"
  },
  "orig_nbformat": 4
 },
 "nbformat": 4,
 "nbformat_minor": 2
}
