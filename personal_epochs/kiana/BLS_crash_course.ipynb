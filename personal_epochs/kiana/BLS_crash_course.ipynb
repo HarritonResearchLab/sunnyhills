{
 "cells": [
  {
   "cell_type": "code",
   "execution_count": 2,
   "metadata": {},
   "outputs": [],
   "source": [
    "import numpy\n",
    "import scipy\n",
    "import matplotlib.pyplot as plt\n",
    "from astropy.stats import sigma_clip\n",
    "import logging"
   ]
  },
  {
   "cell_type": "markdown",
   "metadata": {},
   "source": [
    "Notes\n",
    "t=timestamps\n",
    "y=observations (brightness)\n",
    "dy=error bars\n",
    "snr=signal to noise ratio\n",
    "objective=\"snr\": like log function, makes more reliable transit"
   ]
  }
 ],
 "metadata": {
  "interpreter": {
   "hash": "f103ecd9b80c5f3329249d6ef82504d88c6a614226ff5bc21eec1494b78c7bd9"
  },
  "kernelspec": {
   "display_name": "Python 3.8.10 64-bit (windows store)",
   "language": "python",
   "name": "python3"
  },
  "language_info": {
   "codemirror_mode": {
    "name": "ipython",
    "version": 3
   },
   "file_extension": ".py",
   "mimetype": "text/x-python",
   "name": "python",
   "nbconvert_exporter": "python",
   "pygments_lexer": "ipython3",
   "version": "3.8.10"
  },
  "orig_nbformat": 4
 },
 "nbformat": 4,
 "nbformat_minor": 2
}
