{
 "cells": [
  {
   "cell_type": "code",
   "execution_count": 209,
   "metadata": {},
   "outputs": [],
   "source": [
    "import pandas as pd\n",
    "import matplotlib.pyplot as plt\n",
    "import numpy as np\n",
    "from matplotlib import ticker"
   ]
  },
  {
   "cell_type": "markdown",
   "metadata": {},
   "source": [
    "Stellar Ages"
   ]
  },
  {
   "cell_type": "code",
   "execution_count": 210,
   "metadata": {},
   "outputs": [
    {
     "name": "stdout",
     "output_type": "stream",
     "text": [
      "Stars without age: 5194\n",
      "Percentage stars without age: 17.01946392293073\n"
     ]
    }
   ],
   "source": [
    "#Stars without Ages\n",
    "\n",
    "df=pd.read_csv (r'C:\\Users\\Kiana\\OneDrive\\Desktop\\Python\\Data_ig.csv')\n",
    "stars_without_age=np.count_nonzero(df.age_myr.isnull().values)\n",
    "print('Stars without age:', stars_without_age)\n",
    "\n",
    "num_stars=30518\n",
    "percent_without_age=(stars_without_age/num_stars*100)\n",
    "print('Percentage stars without age:', percent_without_age)\n",
    "\n",
    "#print(df)\n",
    "#print(df.Distance)\n",
    "#print(df.age_myr)"
   ]
  },
  {
   "cell_type": "code",
   "execution_count": 211,
   "metadata": {},
   "outputs": [
    {
     "data": {
      "image/png": "[encoded data removed]",
      "text/plain": [
       "<Figure size 432x288 with 1 Axes>"
      ]
     },
     "metadata": {
      "needs_background": "light"
     },
     "output_type": "display_data"
    }
   ],
   "source": [
    "#Histogram\n",
    "\n",
    "age_list=[df.age_myr]\n",
    "\n",
    "plt.hist(age_list,color='indianred',edgecolor='firebrick',linewidth=1.2,label=('Stars without age: 5194, 17.0%'))\n",
    "\n",
    "\n",
    "plt.xlabel('Ages (millions of years)')\n",
    "plt.ylabel('Frequency')\n",
    "plt.title('Stellar Ages')\n",
    "plt.legend()\n",
    "\n",
    "plt.show()"
   ]
  },
  {
   "cell_type": "code",
   "execution_count": 215,
   "metadata": {},
   "outputs": [
    {
     "ename": "TypeError",
     "evalue": "only integer scalar arrays can be converted to a scalar index",
     "output_type": "error",
     "traceback": [
      "\u001b[1;31m---------------------------------------------------------------------------\u001b[0m",
      "\u001b[1;31mTypeError\u001b[0m                                 Traceback (most recent call last)",
      "\u001b[1;32m~\\AppData\\Local\\Temp/ipykernel_15464/3781541295.py\u001b[0m in \u001b[0;36m<module>\u001b[1;34m\u001b[0m\n\u001b[0;32m      2\u001b[0m \u001b[1;33m\u001b[0m\u001b[0m\n\u001b[0;32m      3\u001b[0m \u001b[0mplt\u001b[0m\u001b[1;33m.\u001b[0m\u001b[0msubplots\u001b[0m\u001b[1;33m(\u001b[0m\u001b[1;33m)\u001b[0m\u001b[1;33m\u001b[0m\u001b[1;33m\u001b[0m\u001b[0m\n\u001b[1;32m----> 4\u001b[1;33m \u001b[0mfiltered_data\u001b[0m \u001b[1;33m=\u001b[0m \u001b[0mage_list\u001b[0m\u001b[1;33m[\u001b[0m\u001b[1;33m~\u001b[0m\u001b[0mnp\u001b[0m\u001b[1;33m.\u001b[0m\u001b[0misnan\u001b[0m\u001b[1;33m(\u001b[0m\u001b[0mage_list\u001b[0m\u001b[1;33m)\u001b[0m\u001b[1;33m]\u001b[0m\u001b[1;33m\u001b[0m\u001b[1;33m\u001b[0m\u001b[0m\n\u001b[0m\u001b[0;32m      5\u001b[0m \u001b[1;33m\u001b[0m\u001b[0m\n\u001b[0;32m      6\u001b[0m \u001b[0mplt\u001b[0m\u001b[1;33m.\u001b[0m\u001b[0mboxplot\u001b[0m\u001b[1;33m(\u001b[0m\u001b[0mfiltered_data\u001b[0m\u001b[1;33m,\u001b[0m \u001b[0mvert\u001b[0m\u001b[1;33m=\u001b[0m\u001b[1;32mFalse\u001b[0m\u001b[1;33m)\u001b[0m\u001b[1;33m\u001b[0m\u001b[1;33m\u001b[0m\u001b[0m\n",
      "\u001b[1;31mTypeError\u001b[0m: only integer scalar arrays can be converted to a scalar index"
     ]
    },
    {
     "data": {
      "image/png": "[encoded data removed]",
      "text/plain": [
       "<Figure size 432x288 with 1 Axes>"
      ]
     },
     "metadata": {
      "needs_background": "light"
     },
     "output_type": "display_data"
    }
   ],
   "source": [
    "#Box Plot\n",
    "\n",
    "plt.subplots()\n",
    "filtered_data = age_list[~np.isnan(age_list)]\n",
    "\n",
    "plt.boxplot(filtered_data, vert=False)\n",
    "\n",
    "plt.title('Stellar Ages')\n",
    "plt.xlabel('Ages (millions of years)')\n",
    "\n",
    "plt.show()"
   ]
  },
  {
   "cell_type": "code",
   "execution_count": 213,
   "metadata": {},
   "outputs": [],
   "source": [
    "import scipy\n",
    "import scipy.stats\n",
    "from scipy.stats import kurtosis"
   ]
  },
  {
   "cell_type": "code",
   "execution_count": 214,
   "metadata": {},
   "outputs": [
    {
     "name": "stdout",
     "output_type": "stream",
     "text": [
      "Mean: 19.582929237087345\n",
      "Median: 19.9\n",
      "Standard Deviation: 8.823727744675836\n",
      "Q1: 13.3\n",
      "Q3: 25.2\n",
      "IQR: 11.899999999999999\n",
      "Kurtosis: 0.03485344758861286\n",
      "Skew: 0.24884721011652888\n"
     ]
    }
   ],
   "source": [
    "\n",
    "Mean=np.mean([filtered_data])\n",
    "print(\"Mean:\", Mean)\n",
    "\n",
    "Median=np.median([filtered_data])\n",
    "print('Median:', Median)\n",
    "\n",
    "Standard_Deviation=np.std([filtered_data])\n",
    "print('Standard Deviation:', Standard_Deviation)\n",
    "\n",
    "Q1=np.percentile(filtered_data, 25)\n",
    "print(\"Q1:\", Q1)\n",
    "Q3= np.percentile(filtered_data, 75)\n",
    "print(\"Q3:\", Q3)\n",
    "IQR=Q3-Q1\n",
    "print(\"IQR:\", IQR)\n",
    "\n",
    "Kurtosis=scipy.stats.kurtosis(filtered_data)\n",
    "print('Kurtosis:', Kurtosis)\n",
    "\n",
    "Skew=scipy.stats.skew(filtered_data)\n",
    "print('Skew:', Skew)"
   ]
  },
  {
   "cell_type": "markdown",
   "metadata": {},
   "source": [
    "Kurtosis: measure how heavy tails of distirbution differ from tails of normal distribution. AKA, do the tails of a distribution contain extreme values?\n",
    "\n",
    "Mean at center\n",
    "lopsided: more terms that describe it\n",
    "\n",
    "len: count length of array"
   ]
  },
  {
   "cell_type": "code",
   "execution_count": null,
   "metadata": {},
   "outputs": [
    {
     "data": {
      "image/png": "[encoded data removed]",
      "text/plain": [
       "<Figure size 432x288 with 1 Axes>"
      ]
     },
     "metadata": {
      "needs_background": "light"
     },
     "output_type": "display_data"
    }
   ],
   "source": [
    "distance_list=[df.Distance]\n",
    "\n",
    "plt.hist(distance_list,edgecolor='black')\n",
    "\n",
    "plt.title('Stellar Distances')\n",
    "plt.xlabel('Distance (parsecs)')\n",
    "plt.ylabel('Frequency')\n",
    "\n",
    "plt.show()"
   ]
  },
  {
   "cell_type": "code",
   "execution_count": null,
   "metadata": {},
   "outputs": [
    {
     "name": "stdout",
     "output_type": "stream",
     "text": [
      "Before -1\n"
     ]
    },
    {
     "ename": "ValueError",
     "evalue": "The truth value of an array with more than one element is ambiguous. Use a.any() or a.all()",
     "output_type": "error",
     "traceback": [
      "\u001b[1;31m---------------------------------------------------------------------------\u001b[0m",
      "\u001b[1;31mValueError\u001b[0m                                Traceback (most recent call last)",
      "\u001b[1;32m~\\AppData\\Local\\Temp/ipykernel_15464/399392679.py\u001b[0m in \u001b[0;36m<module>\u001b[1;34m\u001b[0m\n\u001b[0;32m      4\u001b[0m \u001b[0mprint\u001b[0m\u001b[1;33m(\u001b[0m\u001b[1;34m'Before'\u001b[0m\u001b[1;33m,\u001b[0m\u001b[0mlargest_so_far\u001b[0m\u001b[1;33m)\u001b[0m\u001b[1;33m\u001b[0m\u001b[1;33m\u001b[0m\u001b[0m\n\u001b[0;32m      5\u001b[0m \u001b[1;32mfor\u001b[0m \u001b[0mthe_num\u001b[0m \u001b[1;32min\u001b[0m \u001b[1;33m[\u001b[0m\u001b[0mage_list\u001b[0m\u001b[1;33m]\u001b[0m\u001b[1;33m:\u001b[0m\u001b[1;33m\u001b[0m\u001b[1;33m\u001b[0m\u001b[0m\n\u001b[1;32m----> 6\u001b[1;33m     \u001b[1;32mif\u001b[0m \u001b[0mthe_num\u001b[0m \u001b[1;33m>\u001b[0m \u001b[0mlargest_so_far\u001b[0m \u001b[1;33m:\u001b[0m\u001b[1;33m\u001b[0m\u001b[1;33m\u001b[0m\u001b[0m\n\u001b[0m\u001b[0;32m      7\u001b[0m         \u001b[0mlargest_so_far\u001b[0m \u001b[1;33m=\u001b[0m \u001b[0mthe_num\u001b[0m\u001b[1;33m\u001b[0m\u001b[1;33m\u001b[0m\u001b[0m\n\u001b[0;32m      8\u001b[0m     \u001b[0mprint\u001b[0m\u001b[1;33m(\u001b[0m\u001b[0mlargest_so_far\u001b[0m\u001b[1;33m,\u001b[0m \u001b[0mthe_num\u001b[0m\u001b[1;33m)\u001b[0m\u001b[1;33m\u001b[0m\u001b[1;33m\u001b[0m\u001b[0m\n",
      "\u001b[1;31mValueError\u001b[0m: The truth value of an array with more than one element is ambiguous. Use a.any() or a.all()"
     ]
    }
   ],
   "source": [
    "age_list=np.array(df['age_myr'])\n",
    "\n",
    "largest_so_far = -1\n",
    "print('Before',largest_so_far)\n",
    "for the_num in [age_list]:\n",
    "    if the_num > largest_so_far :\n",
    "        largest_so_far = the_num\n",
    "    print(largest_so_far, the_num)\n",
    "\n",
    "print('After', largest_so_far)"
   ]
  },
  {
   "cell_type": "code",
   "execution_count": null,
   "metadata": {},
   "outputs": [
    {
     "name": "stdout",
     "output_type": "stream",
     "text": [
      "0        28.3\n",
      "1        12.0\n",
      "2         NaN\n",
      "3        18.2\n",
      "4         NaN\n",
      "         ... \n",
      "30513    10.1\n",
      "30514     NaN\n",
      "30515    15.1\n",
      "30516     7.6\n",
      "30517    14.4\n",
      "Name: age_myr, Length: 30518, dtype: float64\n"
     ]
    }
   ],
   "source": [
    "#print(age_list)\n",
    "print(df.age_myr)"
   ]
  }
 ],
 "metadata": {
  "interpreter": {
   "hash": "f103ecd9b80c5f3329249d6ef82504d88c6a614226ff5bc21eec1494b78c7bd9"
  },
  "kernelspec": {
   "display_name": "Python 3.8.10 64-bit (windows store)",
   "language": "python",
   "name": "python3"
  },
  "language_info": {
   "codemirror_mode": {
    "name": "ipython",
    "version": 3
   },
   "file_extension": ".py",
   "mimetype": "text/x-python",
   "name": "python",
   "nbconvert_exporter": "python",
   "pygments_lexer": "ipython3",
   "version": "3.8.10"
  },
  "orig_nbformat": 4
 },
 "nbformat": 4,
 "nbformat_minor": 2
}
