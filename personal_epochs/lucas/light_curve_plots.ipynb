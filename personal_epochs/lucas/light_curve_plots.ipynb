{
 "cells": [
  {
   "cell_type": "code",
   "execution_count": 1,
   "metadata": {},
   "outputs": [],
   "source": [
    "%matplotlib inline\n",
    "import matplotlib.pyplot as plt\n",
    "plt.style.use('seaborn-whitegrid')\n",
    "import numpy as np\n",
    "import pandas as pd"
   ]
  },
  {
   "cell_type": "code",
   "execution_count": 3,
   "metadata": {},
   "outputs": [
    {
     "data": {
      "text/html": [
       "<div>\n",
       "<style scoped>\n",
       "    .dataframe tbody tr th:only-of-type {\n",
       "        vertical-align: middle;\n",
       "    }\n",
       "\n",
       "    .dataframe tbody tr th {\n",
       "        vertical-align: top;\n",
       "    }\n",
       "\n",
       "    .dataframe thead th {\n",
       "        text-align: right;\n",
       "    }\n",
       "</style>\n",
       "<table border=\"1\" class=\"dataframe\">\n",
       "  <thead>\n",
       "    <tr style=\"text-align: right;\">\n",
       "      <th></th>\n",
       "      <th>cleaned_time</th>\n",
       "      <th>detrended_flux</th>\n",
       "      <th>trend_time</th>\n",
       "      <th>trend_flux</th>\n",
       "      <th>raw_time</th>\n",
       "      <th>raw_flux</th>\n",
       "    </tr>\n",
       "  </thead>\n",
       "  <tbody>\n",
       "    <tr>\n",
       "      <th>0</th>\n",
       "      <td>1517.936742</td>\n",
       "      <td>1.006893</td>\n",
       "      <td>1517.936742</td>\n",
       "      <td>0.999730</td>\n",
       "      <td>1517.936742</td>\n",
       "      <td>1.006621</td>\n",
       "    </tr>\n",
       "    <tr>\n",
       "      <th>1</th>\n",
       "      <td>1517.940909</td>\n",
       "      <td>1.006908</td>\n",
       "      <td>1517.940909</td>\n",
       "      <td>0.999604</td>\n",
       "      <td>1517.938131</td>\n",
       "      <td>1.006908</td>\n",
       "    </tr>\n",
       "    <tr>\n",
       "      <th>2</th>\n",
       "      <td>1517.943687</td>\n",
       "      <td>1.004701</td>\n",
       "      <td>1517.943687</td>\n",
       "      <td>0.999566</td>\n",
       "      <td>1517.939520</td>\n",
       "      <td>1.008569</td>\n",
       "    </tr>\n",
       "    <tr>\n",
       "      <th>3</th>\n",
       "      <td>1517.946465</td>\n",
       "      <td>1.005554</td>\n",
       "      <td>1517.946465</td>\n",
       "      <td>0.999477</td>\n",
       "      <td>1517.940909</td>\n",
       "      <td>1.006509</td>\n",
       "    </tr>\n",
       "    <tr>\n",
       "      <th>4</th>\n",
       "      <td>1517.950631</td>\n",
       "      <td>1.006714</td>\n",
       "      <td>1517.950631</td>\n",
       "      <td>0.999342</td>\n",
       "      <td>1517.942298</td>\n",
       "      <td>1.007942</td>\n",
       "    </tr>\n",
       "    <tr>\n",
       "      <th>...</th>\n",
       "      <td>...</td>\n",
       "      <td>...</td>\n",
       "      <td>...</td>\n",
       "      <td>...</td>\n",
       "      <td>...</td>\n",
       "      <td>...</td>\n",
       "    </tr>\n",
       "    <tr>\n",
       "      <th>26564</th>\n",
       "      <td>NaN</td>\n",
       "      <td>NaN</td>\n",
       "      <td>NaN</td>\n",
       "      <td>NaN</td>\n",
       "      <td>2279.977849</td>\n",
       "      <td>1.001945</td>\n",
       "    </tr>\n",
       "    <tr>\n",
       "      <th>26565</th>\n",
       "      <td>NaN</td>\n",
       "      <td>NaN</td>\n",
       "      <td>NaN</td>\n",
       "      <td>NaN</td>\n",
       "      <td>2279.979238</td>\n",
       "      <td>1.001606</td>\n",
       "    </tr>\n",
       "    <tr>\n",
       "      <th>26566</th>\n",
       "      <td>NaN</td>\n",
       "      <td>NaN</td>\n",
       "      <td>NaN</td>\n",
       "      <td>NaN</td>\n",
       "      <td>2279.980627</td>\n",
       "      <td>1.001735</td>\n",
       "    </tr>\n",
       "    <tr>\n",
       "      <th>26567</th>\n",
       "      <td>NaN</td>\n",
       "      <td>NaN</td>\n",
       "      <td>NaN</td>\n",
       "      <td>NaN</td>\n",
       "      <td>2279.982016</td>\n",
       "      <td>1.006501</td>\n",
       "    </tr>\n",
       "    <tr>\n",
       "      <th>26568</th>\n",
       "      <td>NaN</td>\n",
       "      <td>NaN</td>\n",
       "      <td>NaN</td>\n",
       "      <td>NaN</td>\n",
       "      <td>2279.983405</td>\n",
       "      <td>1.000507</td>\n",
       "    </tr>\n",
       "  </tbody>\n",
       "</table>\n",
       "<p>26569 rows × 6 columns</p>\n",
       "</div>"
      ],
      "text/plain": [
       "       cleaned_time  detrended_flux   trend_time  trend_flux     raw_time  \\\n",
       "0       1517.936742        1.006893  1517.936742    0.999730  1517.936742   \n",
       "1       1517.940909        1.006908  1517.940909    0.999604  1517.938131   \n",
       "2       1517.943687        1.004701  1517.943687    0.999566  1517.939520   \n",
       "3       1517.946465        1.005554  1517.946465    0.999477  1517.940909   \n",
       "4       1517.950631        1.006714  1517.950631    0.999342  1517.942298   \n",
       "...             ...             ...          ...         ...          ...   \n",
       "26564           NaN             NaN          NaN         NaN  2279.977849   \n",
       "26565           NaN             NaN          NaN         NaN  2279.979238   \n",
       "26566           NaN             NaN          NaN         NaN  2279.980627   \n",
       "26567           NaN             NaN          NaN         NaN  2279.982016   \n",
       "26568           NaN             NaN          NaN         NaN  2279.983405   \n",
       "\n",
       "       raw_flux  \n",
       "0      1.006621  \n",
       "1      1.006908  \n",
       "2      1.008569  \n",
       "3      1.006509  \n",
       "4      1.007942  \n",
       "...         ...  \n",
       "26564  1.001945  \n",
       "26565  1.001606  \n",
       "26566  1.001735  \n",
       "26567  1.006501  \n",
       "26568  1.000507  \n",
       "\n",
       "[26569 rows x 6 columns]"
      ]
     },
     "execution_count": 3,
     "metadata": {},
     "output_type": "execute_result"
    }
   ],
   "source": [
    "# read csv file\n",
    "df = pd.read_csv('/Users/lucaszhuang1210gmail.com/Documents/GitHub/sunnyhills/data/current/processed/two_min_lightcurves/TIC_1232360.csv')\n",
    "df"
   ]
  },
  {
   "cell_type": "code",
   "execution_count": 6,
   "metadata": {},
   "outputs": [
    {
     "data": {
      "text/plain": [
       "array([1517.93674217, 1517.94090892, 1517.94368675, ...,           nan,\n",
       "                 nan,           nan])"
      ]
     },
     "execution_count": 6,
     "metadata": {},
     "output_type": "execute_result"
    }
   ],
   "source": [
    "# read columns, turn into numpy arrays\n",
    "cleaned_time = np.array(df['cleaned_time'])\n",
    "detrended_flux = np.array(df['detrended_flux'])\n"
   ]
  },
  {
   "cell_type": "code",
   "execution_count": 10,
   "metadata": {},
   "outputs": [
    {
     "name": "stdout",
     "output_type": "stream",
     "text": [
      "[1.00689257 1.00690766 1.00470059 ... 1.00146654 1.00619768 1.0001799 ]\n"
     ]
    }
   ],
   "source": [
    "# removing NaNs by masking \n",
    "mask = np.isfinite(detrended_flux)\n",
    "\n",
    "cleaned_time = cleaned_time[mask]\n",
    "detrended_flux = detrended_flux[mask]\n",
    "\n",
    "print(detrended_flux)"
   ]
  },
  {
   "cell_type": "code",
   "execution_count": 22,
   "metadata": {},
   "outputs": [
    {
     "data": {
      "text/plain": [
       "[<matplotlib.lines.Line2D at 0x11ee49e50>]"
      ]
     },
     "execution_count": 22,
     "metadata": {},
     "output_type": "execute_result"
    },
    {
     "data": {
      "image/png": "[encoded data removed]",
      "text/plain": [
       "<Figure size 720x720 with 2 Axes>"
      ]
     },
     "metadata": {},
     "output_type": "display_data"
    }
   ],
   "source": [
    "# all data are set, ready to graph\n",
    "fig, (ax1, ax2) = plt.subplots(2,1, figsize=(10,10))\n",
    "ax1.plot(cleaned_time, detrended_flux, 'o', color='black')\n",
    "ax2.plot(cleaned_time, detrended_flux)\n"
   ]
  },
  {
   "cell_type": "code",
   "execution_count": 19,
   "metadata": {},
   "outputs": [],
   "source": [
    "ax1.scatter(cleaned_time, detrended_flux)\n"
   ]
  },
  {
   "cell_type": "code",
   "execution_count": null,
   "metadata": {},
   "outputs": [],
   "source": []
  }
 ],
 "metadata": {
  "interpreter": {
   "hash": "44e077a4cd367e7babbe6930a6125691652fdd0a467218ace0a54b77f464457c"
  },
  "kernelspec": {
   "display_name": "Python 3.8.8 ('base')",
   "language": "python",
   "name": "python3"
  },
  "language_info": {
   "codemirror_mode": {
    "name": "ipython",
    "version": 3
   },
   "file_extension": ".py",
   "mimetype": "text/x-python",
   "name": "python",
   "nbconvert_exporter": "python",
   "pygments_lexer": "ipython3",
   "version": "3.8.8"
  },
  "orig_nbformat": 4
 },
 "nbformat": 4,
 "nbformat_minor": 2
}
