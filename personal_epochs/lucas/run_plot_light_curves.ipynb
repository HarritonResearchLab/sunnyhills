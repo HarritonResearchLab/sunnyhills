{
 "cells": [
  {
   "cell_type": "code",
   "execution_count": null,
   "metadata": {},
   "outputs": [],
   "source": [
    "# set ups\n",
    "%matplotlib inline\n",
    "import matplotlib.pyplot as plt\n",
    "plt.style.use('seaborn-whitegrid')\n",
    "import numpy as np\n",
    "import pandas as pd"
   ]
  },
  {
   "cell_type": "code",
   "execution_count": null,
   "metadata": {},
   "outputs": [],
   "source": [
    "# import\n",
    "# choose directory, make all files into a list\n",
    "directory = '/Users/lucaszhuang1210gmail.com/Documents/GitHub/sunnyhills/data/current/processed/two_min_lightcurves'\n",
    "file_list = os.listdir(directory)\n",
    "file_list.remove('.gitkeep')\n",
    "file_list"
   ]
  },
  {
   "cell_type": "code",
   "execution_count": null,
   "metadata": {},
   "outputs": [],
   "source": [
    "# export\n",
    "# save figues to folder\n",
    "def save_figure():\n",
    "    export_path = '/Users/lucaszhuang1210gmail.com/Documents/GitHub/sunnyhills/personal_epochs/lucas/plots_two_min_lightcurves'\n",
    "    export_file_name = export_path + '/TIC_{}.png'.format(tic_id)\n",
    "    fig.savefig(export_file_name)"
   ]
  },
  {
   "cell_type": "code",
   "execution_count": null,
   "metadata": {},
   "outputs": [],
   "source": [
    "# Main\n",
    "\n",
    "# loop through every file in list and run functions\n",
    "for file in file_list:\n",
    "    # read file\n",
    "    tic_id = file[file.rfind('_')+1:-4]\n",
    "    df = pd.read_csv(directory+'/' +file)\n",
    "\n",
    "    # read columns, turn into numpy arrays\n",
    "    clean_time = np.array(df['clean_time'])\n",
    "    clean_flux = np.array(df['clean_flux'])\n",
    "    trend_time = np.array(df['trend_time'])\n",
    "    trend_flux = np.array(df['trend_flux'])\n",
    "\n",
    "    # remove NaN\n",
    "    mask = np.isfinite(clean_flux)\n",
    "    clean_time = clean_time[mask]\n",
    "    clean_flux = clean_flux[mask]\n",
    "    trend_time = trend_time[mask]\n",
    "    trend_flux = trend_flux[mask]\n",
    "\n",
    "\n",
    "    # graph and save fig\n",
    "    # set up two graphs, vertically aligned\n",
    "    fig, (ax1, ax2) = plt.subplots(2,1, figsize=(21,13))\n",
    "\n",
    "    # ax1\n",
    "    ax1.plot(df['raw_time'], df['raw_flux'], 'o', color='black')\n",
    "    ax1.plot(trend_time, trend_flux, 'o', color='red')\n",
    "    # ax1 labels\n",
    "    ax1.set_title(tic_id)\n",
    "    ax1.set_xlabel('Time (MJD)')\n",
    "    ax1.set_ylabel('Raw and Trend Flux')\n",
    "\n",
    "    # ax2\n",
    "    ax2.plot(clean_time, clean_flux, 'o', color='black')\n",
    "    # ax2 labels\n",
    "    ax2.set_xlabel('Time (MJD)')\n",
    "    ax2.set_ylabel('Detrended Flux')\n",
    "\n",
    "    # make a legend for ax2\n",
    "    str = \"Clean data: {} \\n Raw data: {} \\n Percentage: {}\".format(len(clean_time), \n",
    "            len(df['raw_time']), round(len(clean_time)/len(df['raw_time'])*100, 2))\n",
    "    plt.plot([], [], ' ', label=str)\n",
    "    plt.legend()\n",
    "\n",
    "    save_figure()"
   ]
  },
  {
   "cell_type": "code",
   "execution_count": null,
   "metadata": {},
   "outputs": [],
   "source": []
  }
 ],
 "metadata": {
  "interpreter": {
   "hash": "44e077a4cd367e7babbe6930a6125691652fdd0a467218ace0a54b77f464457c"
  },
  "kernelspec": {
   "display_name": "Python 3.8.8 ('base')",
   "language": "python",
   "name": "python3"
  },
  "language_info": {
   "codemirror_mode": {
    "name": "ipython",
    "version": 3
   },
   "file_extension": ".py",
   "mimetype": "text/x-python",
   "name": "python",
   "nbconvert_exporter": "python",
   "pygments_lexer": "ipython3",
   "version": "3.8.8"
  },
  "orig_nbformat": 4
 },
 "nbformat": 4,
 "nbformat_minor": 2
}
