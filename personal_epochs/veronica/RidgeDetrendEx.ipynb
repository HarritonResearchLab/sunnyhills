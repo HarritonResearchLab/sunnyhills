{
 "cells": [
  {
   "cell_type": "code",
   "execution_count": 1,
   "metadata": {},
   "outputs": [
    {
     "name": "stdout",
     "output_type": "stream",
     "text": [
      "Requirement already satisfied: wotan in c:\\users\\60002\\appdata\\local\\programs\\python\\python37\\lib\\site-packages (1.10)\n",
      "Requirement already satisfied: numba in c:\\users\\60002\\appdata\\local\\programs\\python\\python37\\lib\\site-packages (from wotan) (0.55.1)\n",
      "Requirement already satisfied: numpy in c:\\users\\60002\\appdata\\local\\programs\\python\\python37\\lib\\site-packages (from wotan) (1.19.3)\n",
      "Requirement already satisfied: scipy in c:\\users\\60002\\appdata\\local\\programs\\python\\python37\\lib\\site-packages (from wotan) (1.6.1)\n",
      "Requirement already satisfied: llvmlite<0.39,>=0.38.0rc1 in c:\\users\\60002\\appdata\\local\\programs\\python\\python37\\lib\\site-packages (from numba->wotan) (0.38.0)\n",
      "Requirement already satisfied: setuptools in c:\\users\\60002\\appdata\\local\\programs\\python\\python37\\lib\\site-packages (from numba->wotan) (47.1.0)\n",
      "Note: you may need to restart the kernel to use updated packages.\n"
     ]
    },
    {
     "name": "stderr",
     "output_type": "stream",
     "text": [
      "WARNING: You are using pip version 20.1.1; however, version 21.3.1 is available.\n",
      "You should consider upgrading via the 'C:\\Users\\60002\\AppData\\Local\\Programs\\Python\\Python37\\python.exe -m pip install --upgrade pip' command.\n"
     ]
    }
   ],
   "source": [
    "%pip install wotan"
   ]
  },
  {
   "cell_type": "code",
   "execution_count": 2,
   "metadata": {},
   "outputs": [],
   "source": [
    "import wotan\n",
    "import pandas as pd\n",
    "import matplotlib.pyplot as plt\n",
    "import numpy as np\n",
    "from wotan import flatten\n",
    "from wotan import t14"
   ]
  },
  {
   "cell_type": "code",
   "execution_count": 3,
   "metadata": {},
   "outputs": [],
   "source": [
    "def make_plot(tic_id, data_dir): \n",
    "    #lc_df = pd.read_csv(data_dir+'/TIC '+tic_id+'.CSV')\n",
    "    lc_df = pd.read_csv('C:/Users/60002/Documents/GitHub/sunnyhills/data/LightCurve_keys/TIC 12509218.CSV')\n",
    "    ls_df = lc_df[['time', 'flux', 'flux_err']]\n",
    "    raw_times = np.array(ls_df['time'])\n",
    "    raw_fluxes = np.array(ls_df['flux'])\n",
    "    raw_flux_errs = np.array(ls_df['flux_err'])\n",
    "    flatten_lc1, trend_lc1 = flatten(\n",
    "    raw_times,                 # Array of time values\n",
    "    raw_fluxes,                 # Array of flux values\n",
    "    method='ridge',\n",
    "    window_length=0.2,    # The length of the filter window in units of ``time``\n",
    "    break_tolerance=0.5,  # Split into segments at breaks longer than that\n",
    "    return_trend=True,    # Return trend and flattened light curve\n",
    "    )\n",
    "    flatten_lc2, trend_lc2= flatten(\n",
    "    raw_times,                 # Array of time values\n",
    "    raw_fluxes,                 # Array of flux values\n",
    "    method='ridge',\n",
    "    window_length=0.5,    # The length of the filter window in units of ``time``\n",
    "    break_tolerance=0.5,  # Split into segments at breaks longer than that\n",
    "    return_trend=True,    # Return trend and flattened light curve\n",
    "    )\n",
    "    flatten_lc3, trend_lc3 = flatten(\n",
    "    raw_times,                 # Array of time values\n",
    "    raw_fluxes,                 # Array of flux values\n",
    "    method='ridge',\n",
    "    window_length=.01,    # The length of the filter window in units of ``time``\n",
    "    break_tolerance=0.5,  # Split into segments at breaks longer than that\n",
    "    return_trend=True,    # Return trend and flattened light curve\n",
    "    )\n",
    "    #plt.scatter(raw_times, raw_fluxes, s=1, color='black',label='Ridge Detrend')\n",
    "    #plt.plot(raw_times, trend_lc1, color='red', linewidth=1)\n",
    "    #plt.plot(raw_times, trend_lc2, color='orange', linewidth=1)\n",
    "    ##plt.plot(raw_times, trend_lc3, color='blue', linewidth=1)\n",
    "    plt.scatter(raw_times, flatten_lc3,s=1)\n",
    "    plt.show();\n",
    "    plt.legend()\n",
    "    plt.close()\n"
   ]
  },
  {
   "cell_type": "code",
   "execution_count": 4,
   "metadata": {},
   "outputs": [
    {
     "data": {
      "image/png": "[encoded data removed]",
      "text/plain": [
       "<Figure size 432x288 with 1 Axes>"
      ]
     },
     "metadata": {
      "needs_background": "light"
     },
     "output_type": "display_data"
    },
    {
     "name": "stderr",
     "output_type": "stream",
     "text": [
      "No handles with labels found to put in legend.\n"
     ]
    }
   ],
   "source": [
    "lc_dir = 'C:/Users/60004/Documents/GitHub/sunnyhills/data/LightCurve_keys'\n",
    "tic_id = '118807628'\n",
    "make_plot(tic_id, lc_dir)"
   ]
  }
 ],
 "metadata": {
  "interpreter": {
   "hash": "7efe50b28a8cf7423d0780ad3c9d3c44c411320ea74fd2419702a004da11e0ea"
  },
  "kernelspec": {
   "display_name": "Python 3.7.9 64-bit",
   "language": "python",
   "name": "python3"
  },
  "language_info": {
   "codemirror_mode": {
    "name": "ipython",
    "version": 3
   },
   "file_extension": ".py",
   "mimetype": "text/x-python",
   "name": "python",
   "nbconvert_exporter": "python",
   "pygments_lexer": "ipython3",
   "version": "3.7.9"
  },
  "orig_nbformat": 4
 },
 "nbformat": 4,
 "nbformat_minor": 2
}
