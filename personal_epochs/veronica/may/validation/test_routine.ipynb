{
 "cells": [
  {
   "cell_type": "code",
   "execution_count": 1,
   "metadata": {},
   "outputs": [],
   "source": [
    "def filter_data(path:str):\n",
    "    '''\n",
    "    returns:\n",
    "    filtered_df: the edited dataframe  \n",
    "    '''\n",
    "    import pandas as pd\n",
    "    import numpy as np\n",
    "    df = pd.read_csv(path)\n",
    "\n",
    "    # drop initials nans\n",
    "    df = df.dropna(subset=['pl_orbper','sy_pnum','pl_controv_flag'])\n",
    "\n",
    "    df = df.where(np.logical_and(df['pl_orbper']>.5,df['pl_orbper']<15))\n",
    "    df = df.where(df['pl_orbper']<15)\n",
    "    df = df.where(df['pl_controv_flag']==0)\n",
    "    df = df.where(df['sy_pnum']==1)\n",
    "\n",
    "    # filter out the data where the given fields did not meet the conditions\n",
    "    filtered_df = df.dropna(subset=['pl_orbper','pl_controv_flag','sy_pnum'])\n",
    "\n",
    "    return filtered_df"
   ]
  },
  {
   "cell_type": "code",
   "execution_count": 54,
   "metadata": {},
   "outputs": [],
   "source": [
    "\n",
    "def bls_check():\n",
    "    df = filter_data('C:/Users/60002/Documents/GitHub/sunnyhills/personal_epochs/veronica/may/validation/tess nasa exo archive confirmed.csv')\n",
    "    list = df.sample(n=10)\n",
    "        \n"
   ]
  },
  {
   "cell_type": "code",
   "execution_count": 56,
   "metadata": {},
   "outputs": [],
   "source": [
    "bls_check()"
   ]
  }
 ],
 "metadata": {
  "interpreter": {
   "hash": "483cc6728aea19aea79f46d08e82e5df36712545a012895e9b7c5b35b9f2510c"
  },
  "kernelspec": {
   "display_name": "Python 3.7.9 64-bit",
   "language": "python",
   "name": "python3"
  },
  "language_info": {
   "codemirror_mode": {
    "name": "ipython",
    "version": 3
   },
   "file_extension": ".py",
   "mimetype": "text/x-python",
   "name": "python",
   "nbconvert_exporter": "python",
   "pygments_lexer": "ipython3",
   "version": "3.7.9"
  },
  "orig_nbformat": 4
 },
 "nbformat": 4,
 "nbformat_minor": 2
}
