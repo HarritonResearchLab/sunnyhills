{
 "cells": [
  {
   "cell_type": "code",
   "execution_count": 5,
   "metadata": {},
   "outputs": [],
   "source": [
    "def filter_data(path:str):\n",
    "    '''\n",
    "    returns:\n",
    "    filtered_df: the edited dataframe  \n",
    "    '''\n",
    "    import pandas as pd\n",
    "    import numpy as np\n",
    "    df = pd.read_csv(path)\n",
    "\n",
    "    # drop initials nans\n",
    "    df = df.dropna(subset=['pl_orbper','sy_pnum','pl_controv_flag'])\n",
    "\n",
    "    df = df.where(np.logical_and(df['pl_orbper']>.5,df['pl_orbper']<15))\n",
    "    df = df.where(df['pl_controv_flag']==0)\n",
    "    df = df.where(df['sy_pnum']==1)\n",
    "\n",
    "    # filter out the data where the given fields did not meet the conditions\n",
    "    filtered_df = df.dropna(subset=['pl_orbper','pl_controv_flag','sy_pnum'])\n",
    "\n",
    "    return filtered_df"
   ]
  },
  {
   "cell_type": "code",
   "execution_count": 6,
   "metadata": {},
   "outputs": [
    {
     "ename": "ModuleNotFoundError",
     "evalue": "No module named 'sunnyhills'",
     "output_type": "error",
     "traceback": [
      "\u001b[1;31m---------------------------------------------------------------------------\u001b[0m",
      "\u001b[1;31mModuleNotFoundError\u001b[0m                       Traceback (most recent call last)",
      "\u001b[1;32m~\\AppData\\Local\\Temp/ipykernel_9776/1522966935.py\u001b[0m in \u001b[0;36m<module>\u001b[1;34m\u001b[0m\n\u001b[1;32m----> 1\u001b[1;33m \u001b[1;32mfrom\u001b[0m \u001b[0msunnyhills\u001b[0m\u001b[1;33m.\u001b[0m\u001b[0mpipeline_functions\u001b[0m \u001b[1;32mimport\u001b[0m \u001b[0mdownload_and_preprocess\u001b[0m\u001b[1;33m,\u001b[0m\u001b[0mrun_bls\u001b[0m\u001b[1;33m\u001b[0m\u001b[1;33m\u001b[0m\u001b[0m\n\u001b[0m\u001b[0;32m      2\u001b[0m \u001b[1;32mfrom\u001b[0m \u001b[0msunnyhills\u001b[0m\u001b[1;33m.\u001b[0m\u001b[0mplotting\u001b[0m \u001b[1;32mimport\u001b[0m \u001b[0mbls_validation_mosaic\u001b[0m\u001b[1;33m\u001b[0m\u001b[1;33m\u001b[0m\u001b[0m\n\u001b[0;32m      3\u001b[0m \u001b[1;32mdef\u001b[0m \u001b[0mbls_check\u001b[0m\u001b[1;33m(\u001b[0m\u001b[1;33m)\u001b[0m\u001b[1;33m:\u001b[0m\u001b[1;33m\u001b[0m\u001b[1;33m\u001b[0m\u001b[0m\n\u001b[0;32m      4\u001b[0m     \u001b[0mdf\u001b[0m \u001b[1;33m=\u001b[0m \u001b[0mfilter_data\u001b[0m\u001b[1;33m(\u001b[0m\u001b[1;34m'C:/Users/60002/Documents/GitHub/sunnyhills/personal_epochs/veronica/may/validation/tess nasa exo archive confirmed.csv'\u001b[0m\u001b[1;33m)\u001b[0m\u001b[1;33m\u001b[0m\u001b[1;33m\u001b[0m\u001b[0m\n\u001b[0;32m      5\u001b[0m     \u001b[0mlist\u001b[0m \u001b[1;33m=\u001b[0m \u001b[0mdf\u001b[0m\u001b[1;33m.\u001b[0m\u001b[0msample\u001b[0m\u001b[1;33m(\u001b[0m\u001b[0mn\u001b[0m\u001b[1;33m=\u001b[0m\u001b[1;36m10\u001b[0m\u001b[1;33m)\u001b[0m\u001b[1;33m\u001b[0m\u001b[1;33m\u001b[0m\u001b[0m\n",
      "\u001b[1;31mModuleNotFoundError\u001b[0m: No module named 'sunnyhills'"
     ]
    }
   ],
   "source": [
    "\n",
    "from sunnyhills.pipeline_functions import download_and_preprocess,run_bls\n",
    "from sunnyhills.plotting import bls_validation_mosaic\n",
    "def bls_check():\n",
    "    df = filter_data('C:/Users/60002/Documents/GitHub/sunnyhills/personal_epochs/veronica/may/validation/tess nasa exo archive confirmed.csv')\n",
    "    list = df.sample(n=10)\n",
    "\n",
    "    for tid in list:\n",
    "        download_and_preprocess(tid)\n",
    "        \n"
   ]
  },
  {
   "cell_type": "code",
   "execution_count": 4,
   "metadata": {},
   "outputs": [],
   "source": [
    "bls_check()"
   ]
  }
 ],
 "metadata": {
  "interpreter": {
   "hash": "483cc6728aea19aea79f46d08e82e5df36712545a012895e9b7c5b35b9f2510c"
  },
  "kernelspec": {
   "display_name": "Python 3.7.9 64-bit",
   "language": "python",
   "name": "python3"
  },
  "language_info": {
   "codemirror_mode": {
    "name": "ipython",
    "version": 3
   },
   "file_extension": ".py",
   "mimetype": "text/x-python",
   "name": "python",
   "nbconvert_exporter": "python",
   "pygments_lexer": "ipython3",
   "version": "3.7.9"
  },
  "orig_nbformat": 4
 },
 "nbformat": 4,
 "nbformat_minor": 2
}
