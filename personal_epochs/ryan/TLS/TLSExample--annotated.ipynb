{
  "nbformat": 4,
  "nbformat_minor": 0,
  "metadata": {
    "colab": {
      "name": "TLSExample.ipynb",
      "provenance": []
    },
    "kernelspec": {
      "name": "python3",
      "display_name": "Python 3"
    },
    "language_info": {
      "name": "python"
    }
  },
  "cells": [
    {
      "cell_type": "code",
      "source": [
        "#ANNOTATIONS\n",
        "\n",
        "#Libraries used in example: (Not necessary to run TLS)\n",
        "import numpy\n",
        "import scipy\n",
        "#Everest is a pipeline for detrending lightcurves:\n",
        "import everest\n",
        "#Graphing:\n",
        "from astropy.stats import sigma_clip\n",
        "import matplotlib.pyplot as plt\n",
        "#Logging library is used for managing errors and finding bugs:\n",
        "import logging\n",
        "logging.basicConfig(level=logging.DEBUG)\n",
        "logger = logging.getLogger('matplotlib')\n",
        "logger.setLevel(logging.CRITICAL)\n",
        "###\n",
        "\n",
        "####Detrending and graphing code:\n",
        "from matplotlib import rcParams; rcParams[\"figure.dpi\"] = 150\n",
        "EPIC_id = 201367065  \n",
        "#Data sorting:      \n",
        "star = everest.Everest(EPIC_id)\n",
        "t = numpy.delete(star.time, star.badmask)\n",
        "y = numpy.delete(star.fcor, star.badmask)\n",
        "t = numpy.array(t[~numpy.isnan(y)], dtype='float32')\n",
        "y = numpy.array(y[~numpy.isnan(y)], dtype='float32')\n",
        "#Detrending with scipy\n",
        "trend = scipy.signal.medfilt(y, 25)\n",
        "y_filt = y /trend\n",
        "y_filt = sigma_clip(y_filt, sigma_upper=2, sigma_lower=float('inf'))\n",
        "#Plotting code:\n",
        "fig, axes = plt.subplots(2, 1, sharex=True, figsize=(6, 6))\n",
        "ax = axes[0]\n",
        "#\"t\" is x-axis\n",
        "ax.plot(t, y, \"k\")\n",
        "ax.plot(t, trend)\n",
        "ax.set_ylabel(\"Flux (electrons per sec)\")\n",
        "ax = axes[1]\n",
        "ax.plot(t, y_filt, \"k\")\n",
        "ax.set_xlim(t.min(), t.max())\n",
        "ax.set_xlabel(\"Time (days)\")\n",
        "ax.set_ylabel(\"Normalized flux\");\n",
        "#################################################COPY THIS CODE####################################################################\n",
        "#TRANSITLEAST SQUARES CODE:\n",
        "from transitleastsquares import transitleastsquares\n",
        "#Most import line: (to run tls its simply a function \"transitleastsquares()\" it takes x-axis and y-axis inputs--detrended.)\n",
        "model = transitleastsquares(t, y_filt)\n",
        "#not exactly sure what this is but I believe we could use the same arguments...\n",
        "results = model.power(oversampling_factor=5, duration_grid_step=1.02)\n",
        "###################################################################################################################################"
      ],
      "metadata": {
        "id": "yWJCSsGgVswU"
      },
      "execution_count": null,
      "outputs": []
    },
    {
      "cell_type": "code",
      "source": [
        "#plotting period graph\n",
        "plt.figure()\n",
        "ax = plt.gca()\n",
        "#referencing results for plotting...\n",
        "ax.axvline(results.period, alpha=0.4, lw=3)\n",
        "plt.xlim(numpy.min(results.periods), numpy.max(results.periods))\n",
        "for n in range(2, 10):\n",
        "    ax.axvline(n*results.period, alpha=0.4, lw=1, linestyle=\"dashed\")\n",
        "    ax.axvline(results.period / n, alpha=0.4, lw=1, linestyle=\"dashed\")\n",
        "plt.ylabel(r'SDE')\n",
        "plt.xlabel('Period (days)')\n",
        "plt.plot(results.periods, results.power, color='black', lw=0.5)\n",
        "plt.xlim(0, max(results.periods));\n",
        "\n"
      ],
      "metadata": {
        "id": "We17cef5kDfd"
      },
      "execution_count": null,
      "outputs": []
    },
    {
      "cell_type": "code",
      "source": [
        "#Irrelevant code:\n",
        "plt.figure()\n",
        "plt.plot(\n",
        "    results.model_folded_phase,\n",
        "    results.model_folded_model,\n",
        "    color='red')\n",
        "#Again, using results for x and y arguments on scatter plot. If we are making a scatter plot we can use folded_phase and folded_y...\n",
        "plt.scatter(\n",
        "    results.folded_phase,\n",
        "    results.folded_y,\n",
        "#More irrelevant code:\n",
        "    color='blue',\n",
        "    s=10,\n",
        "    alpha=0.5,\n",
        "    zorder=2)\n",
        "plt.xlim(0.49, 0.51)\n",
        "plt.xlabel('Phase')\n",
        "plt.ylabel('Relative flux');"
      ],
      "metadata": {
        "id": "FZp7s5SWkOVs"
      },
      "execution_count": null,
      "outputs": []
    }
  ]
}