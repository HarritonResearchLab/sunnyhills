{
  "nbformat": 4,
  "nbformat_minor": 0,
  "metadata": {
    "colab": {
      "name": "Tess-Point_Lab.ipynb",
      "provenance": [],
      "collapsed_sections": []
    },
    "kernelspec": {
      "name": "python3",
      "display_name": "Python 3"
    },
    "language_info": {
      "name": "python"
    }
  },
  "cells": [
    {
      "cell_type": "code",
      "source": [
        "#Run this cell everytime you open the project\n",
        "!pip install tess-point"
      ],
      "metadata": {
        "id": "x42JTjo1-_9v"
      },
      "execution_count": null,
      "outputs": []
    },
    {
      "cell_type": "code",
      "source": [
        "#CSV OUTPUT CELL\n",
        "import pandas as pd\n",
        "import numpy as np\n",
        "from tess_stars2px import tess_stars2px_function_entry\n",
        "counter=1\n",
        "#f = open(\"Output.csv\", \"a\")\n",
        "df = pd.read_csv('https://raw.githubusercontent.com/HarritonResearchLab/sunnyhills/main/data/current/full_key.csv')\n",
        "df = df.dropna()\n",
        "dfRA = df['GDR2_RA'][:2]\n",
        "dfDEC = df['GDR2_DEC'][:2]\n",
        "dfTIC = df['GDR2_ID'][:2]\n",
        "propRA = 0\n",
        "#propTIC = 12345678\n",
        "for propRA, propDEC, propTIC in zip(dfRA, dfDEC, dfTIC):\n",
        "  #print(propRA, propDEC)\n",
        "  ##################################\n",
        "  outID, outEclipLong, outEclipLat, outSec, outCam, outCcd, \\\n",
        "          outColPix, outRowPix, scinfo = tess_stars2px_function_entry(\n",
        "                  propTIC, propRA, propDEC)\n",
        "  for i in range(len(outID)):\n",
        "    #print('{0:d}, {1:d}, {2:d}, {3:d}, {4:f}, {5:f},'.format(outID[i], outSec[i], \\\n",
        "    #outCam[i], outCcd[i], outColPix[i], outRowPix[i]))\n",
        "    a = '{0:d}, {1:d}, {2:d}, {3:d}, {4:f}, {5:f},'.format(outID[i], outSec[i], \\\n",
        "    outCam[i], outCcd[i], outColPix[i], outRowPix[i])\n",
        "    print(a)\n",
        "    f.write(a)\n",
        "    f.write(\"\\n\")\n",
        "  ##################################\n",
        "  outID, outEclipLong, outEclipLat, outSec, outCam, outCcd, \\\n",
        "          outColPix, outRowPix, scinfo = tess_stars2px_function_entry(\n",
        "                  propTIC, propRA, propDEC, scInfo=scinfo)\n",
        "#\n",
        "  for i in range(len(outID)):\n",
        "    #print('{0:d}, {1:d}, {2:d}, {3:d}, {4:f}, {5:f},'.format(outID[i], outSec[i], \\\n",
        "    #outCam[i], outCcd[i], outColPix[i], outRowPix[i]))\n",
        "    b = '{0:d}, {1:d}, {2:d}, {3:d}, {4:f}, {5:f},'.format(outID[i], outSec[i], \\\n",
        "    outCam[i], outCcd[i], outColPix[i], outRowPix[i])\n",
        "    print(b)\n",
        "#    f.write(b)\n",
        "#    f.write(\"\\n\")\n",
        "  ##################################\n",
        "#f.close()"
      ],
      "metadata": {
        "colab": {
          "base_uri": "https://localhost:8080/"
        },
        "id": "pAfwXPVLHKNL",
        "outputId": "16e87171-8c05-4c95-9a74-5098ac1b192d"
      },
      "execution_count": 31,
      "outputs": [
        {
          "output_type": "stream",
          "name": "stdout",
          "text": [
            "-1, -1, -1, -1, -1.000000, -1.000000,\n",
            "6099439604319602560, 11, 1, 2, 634.339248, 289.213791,\n",
            "6099439604319602560, 38, 1, 1, 1892.655314, 304.530764,\n",
            "6099439604319602560, 65, 1, 1, 950.537434, 552.237492,\n"
          ]
        }
      ]
    },
    {
      "cell_type": "code",
      "source": [
        "#MAIN CODE CELL\n",
        "import pandas as pd\n",
        "import numpy as np\n",
        "from tess_stars2px import tess_stars2px_function_entry\n",
        "counter=1\n",
        "df = pd.read_csv('https://raw.githubusercontent.com/HarritonResearchLab/sunnyhills/main/data/current/full_key.csv')\n",
        "df=df.dropna()\n",
        "dfRA = df['GDR2_RA'][:50]\n",
        "dfDEC = df['GDR2_DEC'][:50]\n",
        "dfTIC = df['GDR2_ID'][:50]\n",
        "propRA = 0\n",
        "#propTIC = 12345678\n",
        "for propRA, propDEC, propTIC in zip(dfRA, dfDEC, dfTIC):\n",
        "  print(\"#########################\",counter)\n",
        "  #print(propRA, propDEC)\n",
        "  ##################################\n",
        "  outID, outEclipLong, outEclipLat, outSec, outCam, outCcd, \\\n",
        "          outColPix, outRowPix, scinfo = tess_stars2px_function_entry(\n",
        "                  propTIC, propRA, propDEC)\n",
        "  for i in range(len(outID)):\n",
        "    print('{0:d}, {1:d}, {2:d}, {3:d}, {4:f}, {5:f},'.format(outID[i], outSec[i], \\\n",
        "    outCam[i], outCcd[i], outColPix[i], outRowPix[i]))\n",
        "  ##################################\n",
        "  outID, outEclipLong, outEclipLat, outSec, outCam, outCcd, \\\n",
        "          outColPix, outRowPix, scinfo = tess_stars2px_function_entry(\n",
        "                  propTIC, propRA, propDEC, scInfo=scinfo)\n",
        "  print('Faster to re-use scinfo in repeated calls... !WHEN PRINTING CSV TURN THIS OFF!')\n",
        "  for i in range(len(outID)):\n",
        "    print('{0:d}, {1:d}, {2:d}, {3:d}, {4:f}, {5:f},'.format(outID[i], outSec[i], \\\n",
        "    outCam[i], outCcd[i], outColPix[i], outRowPix[i]))\n",
        "  ##################################\n",
        "\n",
        "  counter+=1"
      ],
      "metadata": {
        "id": "k6dNXQC3zCMR"
      },
      "execution_count": null,
      "outputs": []
    },
    {
      "cell_type": "code",
      "source": [
        "#Cell for testing certain parts of original source code\n",
        "import numpy as np\n",
        "from tess_stars2px import tess_stars2px_function_entry\n",
        "#########\n",
        "#########\n",
        "if __name__ == '__main__':\n",
        "    # This is an example of using tess_stars2px functionality \n",
        "    # from a program rather than the typical command line interface\n",
        "    # the function example only takes ra and dec [deg] \n",
        "    ra = 84.291188 \n",
        "    dec = -80.469119\n",
        "    ticid = 261136679 # code doesn't actually use ticid, so this can be\n",
        "        # any integer you like.  It is included just for convenience of \n",
        "        # keeping track of target in the output because\n",
        "        # for a given target it is not known ahead of time how many\n",
        "        # output entries a target will have.  Thus the user\n",
        "        # should make sure to match the output ticid (outID)\n",
        "        #  with the ticid they are using\n",
        "    outID, outEclipLong, outEclipLat, outSec, outCam, outCcd, \\\n",
        "            outColPix, outRowPix, scinfo = tess_stars2px_function_entry(\n",
        "                    ticid, ra, dec)\n",
        "    for i in range(len(outID)):\n",
        "        print('{0:d} {1:d} {2:d} {3:d} {4:f} {5:f}'.format(outID[i], outSec[i], \\\n",
        "          outCam[i], outCcd[i], outColPix[i], outRowPix[i]))\n",
        "        \n",
        "    # For efficiency purposes if you save scinfo between calls\n",
        "    #  you will save time in setting up the the telescope fields\n",
        "    #outID, outEclipLong, outEclipLat, outSec, outCam, outCcd, \\\n",
        "     #       outColPix, outRowPix, scinfo = tess_stars2px_function_entry(\n",
        "      #              ticid, ra, dec, scInfo=scinfo)"
      ],
      "metadata": {
        "id": "1y1sQ1OcyC_K"
      },
      "execution_count": null,
      "outputs": []
    },
    {
      "cell_type": "code",
      "source": [
        "#Cell for testing zip() function and running through two lists simultaneously using for loop\n",
        "import pandas as pd\n",
        "df = pd.read_csv('https://raw.githubusercontent.com/HarritonResearchLab/sunnyhills/main/data/current/full_key.csv')\n",
        "df=df.dropna()\n",
        "dfRA = df['GDR2_RA'][:3]\n",
        "dfDEC = df['GDR2_DEC'][:3]\n",
        "propRA = 0\n",
        "for propRA, propDEC in zip(dfRA, dfDEC):\n",
        "  print(propRA, propDEC)"
      ],
      "metadata": {
        "id": "4rn-nZAqpbOa"
      },
      "execution_count": null,
      "outputs": []
    },
    {
      "cell_type": "code",
      "source": [
        "#Cell for original example source code\n",
        "import numpy as np\n",
        "import pandas as pd\n",
        "from tess_stars2px import tess_stars2px_function_entry\n",
        "#########\n",
        "df = pd.read_csv('https://raw.githubusercontent.com/HarritonResearchLab/sunnyhills/main/data/current/full_key.csv')\n",
        "df=df.dropna()\n",
        "dfRA = df['GDR2_RA'][:500]\n",
        "dfDEC = df['GDR2_DEC'][:500]\n",
        "#########\n",
        "if __name__ == '__main__':\n",
        "    # This is an example of using tess_stars2px functionality \n",
        "    # from a program rather than the typical command line interface\n",
        "    # the function example only takes ra and dec [deg] \n",
        "    ra = 84.291188 \n",
        "    dec = -80.469119\n",
        "    ticid = 261136679 # code doesn't actually use ticid, so this can be\n",
        "        # any integer you like.  It is included just for convenience of \n",
        "        # keeping track of target in the output because\n",
        "        # for a given target it is not known ahead of time how many\n",
        "        # output entries a target will have.  Thus the user\n",
        "        # should make sure to match the output ticid (outID)\n",
        "        #  with the ticid they are using\n",
        "    outID, outEclipLong, outEclipLat, outSec, outCam, outCcd, \\\n",
        "            outColPix, outRowPix, scinfo = tess_stars2px_function_entry(\n",
        "                    ticid, ra, dec)\n",
        "    for i in range(len(outID)):\n",
        "        print('{0:d} {1:d} {2:d} {3:d} {4:f} {5:f}'.format(outID[i], outSec[i], \\\n",
        "          outCam[i], outCcd[i], outColPix[i], outRowPix[i]))\n",
        "        \n",
        "    # For efficiency purposes if you save scinfo between calls\n",
        "    #  you will save time in setting up the the telescope fields\n",
        "    outID, outEclipLong, outEclipLat, outSec, outCam, outCcd, \\\n",
        "            outColPix, outRowPix, scinfo = tess_stars2px_function_entry(\n",
        "                    ticid, ra, dec, scInfo=scinfo)\n",
        "    print('Faster to re-use scinfo in repeated calls')\n",
        "    for i in range(len(outID)):\n",
        "        print('{0:d} {1:d} {2:d} {3:d} {4:f} {5:f}'.format(outID[i], outSec[i], \\\n",
        "          outCam[i], outCcd[i], outColPix[i], outRowPix[i]))\n",
        "#This section of the code appears to be arbitrary, using a numpy array with values from 219.90085-10.897379 for ra\n",
        "# and -60.835618--> -17.986606 for dec.\n",
        "#This section of code appears to be an example of a multi-target input\n",
        "    print('Also accepts multiple targets')\n",
        "    ra = np.array([219.90085,10.897379], dtype=np.float)\n",
        "    dec = np.array([-60.835619,-17.986606], dtype=np.float)\n",
        "    ticid = np.array([0,1], dtype=np.int)\n",
        "    outID, outEclipLong, outEclipLat, outSec, outCam, outCcd, \\\n",
        "            outColPix, outRowPix, scinfo = tess_stars2px_function_entry(\n",
        "                    ticid, ra, dec, scInfo=scinfo)\n",
        "    for i in range(len(outID)):\n",
        "        print('{0:d} {1:d} {2:d} {3:d} {4:f} {5:f}'.format(outID[i], outSec[i], \\\n",
        "          outCam[i], outCcd[i], outColPix[i], outRowPix[i]))"
      ],
      "metadata": {
        "id": "9GNX_qvMnDzI"
      },
      "execution_count": null,
      "outputs": []
    }
  ]
}