{
 "cells": [
  {
   "cell_type": "code",
   "execution_count": 3,
   "metadata": {},
   "outputs": [],
   "source": [
    "import pandas as pd\n",
    "import matplotlib.pyplot as plt\n",
    "import numpy as np\n",
    "import warnings"
   ]
  },
  {
   "cell_type": "code",
   "execution_count": 11,
   "metadata": {},
   "outputs": [],
   "source": [
    "df = pd.read_csv(r'C:\\Users\\Research\\Documents\\GitHub\\sunnyhills\\data\\archive\\LightCurve_keys\\TIC 140045538.csv')\n",
    "\n",
    "time = pd.Series(df['time'])\n",
    "flux = pd.Series(df['pdcsap_flux'])\n",
    "fluxerr = pd.Series(df['pdcsap_flux_err'])"
   ]
  },
  {
   "cell_type": "code",
   "execution_count": 49,
   "metadata": {},
   "outputs": [],
   "source": [
    "def remove_flares(time, flux): \n",
    "\n",
    "    removed_time, removed_flux = (np.array([]), np.array([]))\n",
    "        \n",
    "    # \"global\" view: 1024 point bin (1.4 days) \n",
    "    # \"local\" view: 128 point bin (4.3 hours) \n",
    "\n",
    "    continue_global = True \n",
    "    while continue_global:\n",
    "        global_rolling = flux.rolling(1024, center=True) \n",
    "        global_medians = global_rolling.median()\n",
    "        global_stds = global_rolling.std()\n",
    "        cutoffs = global_medians+3*global_stds\n",
    "\n",
    "        remove_indices = []\n",
    "        for i in range(len(flux)): \n",
    "            if flux[i]>cutoffs[i] and global_medians[i]!=np.nan: \n",
    "                remove_indices.append(i)\n",
    "\n",
    "        if len(remove_indices)==0: \n",
    "            continue_global = False \n",
    "\n",
    "        else:     \n",
    "            \n",
    "            removed_time = np.concatenate((removed_time, time[remove_indices])) \n",
    "            removed_flux = np.concatenate((removed_flux, flux[remove_indices])) \n",
    "\n",
    "            plt.scatter(removed_time, removed_flux)\n",
    "            plt.show()\n",
    "\n",
    "            print(len(flux), len(time))\n",
    "            print(len(time), max(remove_indices))\n",
    "            \n",
    "            print(np.shape(remove_indices))\n",
    "\n",
    "            for i in np.sort(remove_indices)[::-1]: \n",
    "                time = np.delete(time, i)\n",
    "                \n",
    "            #time = np.delete(time, remove_indices) \n",
    "\n",
    "            flux = np.delete(flux, remove_indices) \n",
    "            \n",
    "    continue_local = True \n",
    "    while continue_local: \n",
    "        local_rolling = flux.rolling(128, center=True) \n",
    "        local_medians = local_rolling.median() \n",
    "        local_stds = local_rolling.std() \n",
    "        cutoffs = local_medians+3*local_stds \n",
    "\n",
    "        remove_indices = [] \n",
    "        for i in range(len(flux)): \n",
    "            if flux[i]>cutoffs[i] and local_medians[i]!=np.nan: \n",
    "                remove_indices.append(i) \n",
    "\n",
    "        if len(remove_indices)==0: \n",
    "            continue_global = False \n",
    "\n",
    "        else:     \n",
    "            removed_time = np.concatenate((removed_time, time[remove_indices]))\n",
    "            removed_flux = np.concatenate((removed_flux, flux[remove_indices]))\n",
    "\n",
    "            time = np.delete(time, remove_indices)\n",
    "            flux = np.delete(flux, remove_indices)\n",
    "\n",
    "    return time, flux, removed_time, removed_flux \n",
    "\n",
    "clean_time, clean_flux, flair_time, flair_flux = remove_flares(time,flux)"
   ]
  },
  {
   "cell_type": "code",
   "execution_count": 48,
   "metadata": {},
   "outputs": [
    {
     "name": "stdout",
     "output_type": "stream",
     "text": [
      "18279 18279\n",
      "18279 17195\n",
      "(137,)\n"
     ]
    },
    {
     "ename": "ValueError",
     "evalue": "Length of values (18278) does not match length of index (18279)",
     "output_type": "error",
     "traceback": [
      "\u001b[1;31m---------------------------------------------------------------------------\u001b[0m",
      "\u001b[1;31mValueError\u001b[0m                                Traceback (most recent call last)",
      "\u001b[1;32mc:\\Users\\Research\\Documents\\GitHub\\sunnyhills\\personal_epochs\\thaddaeus\\may\\redo_flare_detection\\main.ipynb Cell 4'\u001b[0m in \u001b[0;36m<cell line: 1>\u001b[1;34m()\u001b[0m\n\u001b[1;32m----> <a href='vscode-notebook-cell:/c%3A/Users/Research/Documents/GitHub/sunnyhills/personal_epochs/thaddaeus/may/redo_flare_detection/main.ipynb#ch0000010?line=0'>1</a>\u001b[0m clean_time, clean_flux, flair_time, flair_flux \u001b[39m=\u001b[39m remove_flares(time,flux)\n\u001b[0;32m      <a href='vscode-notebook-cell:/c%3A/Users/Research/Documents/GitHub/sunnyhills/personal_epochs/thaddaeus/may/redo_flare_detection/main.ipynb#ch0000010?line=2'>3</a>\u001b[0m plt\u001b[39m.\u001b[39mscatter(clean_time, clean_flux)\n\u001b[0;32m      <a href='vscode-notebook-cell:/c%3A/Users/Research/Documents/GitHub/sunnyhills/personal_epochs/thaddaeus/may/redo_flare_detection/main.ipynb#ch0000010?line=3'>4</a>\u001b[0m plt\u001b[39m.\u001b[39mscatter(flair_time, flair_flux)\n",
      "\u001b[1;32mc:\\Users\\Research\\Documents\\GitHub\\sunnyhills\\personal_epochs\\thaddaeus\\may\\redo_flare_detection\\main.ipynb Cell 3'\u001b[0m in \u001b[0;36mremove_flares\u001b[1;34m(time, flux)\u001b[0m\n\u001b[0;32m     <a href='vscode-notebook-cell:/c%3A/Users/Research/Documents/GitHub/sunnyhills/personal_epochs/thaddaeus/may/redo_flare_detection/main.ipynb#ch0000001?line=29'>30</a>\u001b[0m \u001b[39mprint\u001b[39m(np\u001b[39m.\u001b[39mshape(remove_indices))\n\u001b[0;32m     <a href='vscode-notebook-cell:/c%3A/Users/Research/Documents/GitHub/sunnyhills/personal_epochs/thaddaeus/may/redo_flare_detection/main.ipynb#ch0000001?line=31'>32</a>\u001b[0m \u001b[39mfor\u001b[39;00m i \u001b[39min\u001b[39;00m np\u001b[39m.\u001b[39msort(remove_indices)[::\u001b[39m-\u001b[39m\u001b[39m1\u001b[39m]: \n\u001b[1;32m---> <a href='vscode-notebook-cell:/c%3A/Users/Research/Documents/GitHub/sunnyhills/personal_epochs/thaddaeus/may/redo_flare_detection/main.ipynb#ch0000001?line=32'>33</a>\u001b[0m     time \u001b[39m=\u001b[39m np\u001b[39m.\u001b[39;49mdelete(time, i)\n\u001b[0;32m     <a href='vscode-notebook-cell:/c%3A/Users/Research/Documents/GitHub/sunnyhills/personal_epochs/thaddaeus/may/redo_flare_detection/main.ipynb#ch0000001?line=35'>36</a>\u001b[0m \u001b[39m#time = np.delete(time, remove_indices) \u001b[39;00m\n\u001b[0;32m     <a href='vscode-notebook-cell:/c%3A/Users/Research/Documents/GitHub/sunnyhills/personal_epochs/thaddaeus/may/redo_flare_detection/main.ipynb#ch0000001?line=37'>38</a>\u001b[0m flux \u001b[39m=\u001b[39m np\u001b[39m.\u001b[39mdelete(flux, remove_indices) \n",
      "File \u001b[1;32m<__array_function__ internals>:5\u001b[0m, in \u001b[0;36mdelete\u001b[1;34m(*args, **kwargs)\u001b[0m\n",
      "File \u001b[1;32mc:\\Users\\Research\\.virtualenvs\\trying_again\\.wotan_work\\lib\\site-packages\\numpy\\lib\\function_base.py:4558\u001b[0m, in \u001b[0;36mdelete\u001b[1;34m(arr, obj, axis)\u001b[0m\n\u001b[0;32m   <a href='file:///c%3A/Users/Research/.virtualenvs/trying_again/.wotan_work/lib/site-packages/numpy/lib/function_base.py?line=4554'>4555</a>\u001b[0m     new \u001b[39m=\u001b[39m arr[\u001b[39mtuple\u001b[39m(slobj)]\n\u001b[0;32m   <a href='file:///c%3A/Users/Research/.virtualenvs/trying_again/.wotan_work/lib/site-packages/numpy/lib/function_base.py?line=4556'>4557</a>\u001b[0m \u001b[39mif\u001b[39;00m wrap:\n\u001b[1;32m-> <a href='file:///c%3A/Users/Research/.virtualenvs/trying_again/.wotan_work/lib/site-packages/numpy/lib/function_base.py?line=4557'>4558</a>\u001b[0m     \u001b[39mreturn\u001b[39;00m wrap(new)\n\u001b[0;32m   <a href='file:///c%3A/Users/Research/.virtualenvs/trying_again/.wotan_work/lib/site-packages/numpy/lib/function_base.py?line=4558'>4559</a>\u001b[0m \u001b[39melse\u001b[39;00m:\n\u001b[0;32m   <a href='file:///c%3A/Users/Research/.virtualenvs/trying_again/.wotan_work/lib/site-packages/numpy/lib/function_base.py?line=4559'>4560</a>\u001b[0m     \u001b[39mreturn\u001b[39;00m new\n",
      "File \u001b[1;32mc:\\Users\\Research\\.virtualenvs\\trying_again\\.wotan_work\\lib\\site-packages\\pandas\\core\\generic.py:2105\u001b[0m, in \u001b[0;36mNDFrame.__array_wrap__\u001b[1;34m(self, result, context)\u001b[0m\n\u001b[0;32m   <a href='file:///c%3A/Users/Research/.virtualenvs/trying_again/.wotan_work/lib/site-packages/pandas/core/generic.py?line=2101'>2102</a>\u001b[0m d \u001b[39m=\u001b[39m \u001b[39mself\u001b[39m\u001b[39m.\u001b[39m_construct_axes_dict(\u001b[39mself\u001b[39m\u001b[39m.\u001b[39m_AXIS_ORDERS, copy\u001b[39m=\u001b[39m\u001b[39mFalse\u001b[39;00m)\n\u001b[0;32m   <a href='file:///c%3A/Users/Research/.virtualenvs/trying_again/.wotan_work/lib/site-packages/pandas/core/generic.py?line=2102'>2103</a>\u001b[0m \u001b[39m# error: Argument 1 to \"NDFrame\" has incompatible type \"ndarray\";\u001b[39;00m\n\u001b[0;32m   <a href='file:///c%3A/Users/Research/.virtualenvs/trying_again/.wotan_work/lib/site-packages/pandas/core/generic.py?line=2103'>2104</a>\u001b[0m \u001b[39m# expected \"BlockManager\"\u001b[39;00m\n\u001b[1;32m-> <a href='file:///c%3A/Users/Research/.virtualenvs/trying_again/.wotan_work/lib/site-packages/pandas/core/generic.py?line=2104'>2105</a>\u001b[0m \u001b[39mreturn\u001b[39;00m \u001b[39mself\u001b[39;49m\u001b[39m.\u001b[39;49m_constructor(res, \u001b[39m*\u001b[39;49m\u001b[39m*\u001b[39;49md)\u001b[39m.\u001b[39m__finalize__(  \u001b[39m# type: ignore[arg-type]\u001b[39;00m\n\u001b[0;32m   <a href='file:///c%3A/Users/Research/.virtualenvs/trying_again/.wotan_work/lib/site-packages/pandas/core/generic.py?line=2105'>2106</a>\u001b[0m     \u001b[39mself\u001b[39m, method\u001b[39m=\u001b[39m\u001b[39m\"\u001b[39m\u001b[39m__array_wrap__\u001b[39m\u001b[39m\"\u001b[39m\n\u001b[0;32m   <a href='file:///c%3A/Users/Research/.virtualenvs/trying_again/.wotan_work/lib/site-packages/pandas/core/generic.py?line=2106'>2107</a>\u001b[0m )\n",
      "File \u001b[1;32mc:\\Users\\Research\\.virtualenvs\\trying_again\\.wotan_work\\lib\\site-packages\\pandas\\core\\series.py:442\u001b[0m, in \u001b[0;36mSeries.__init__\u001b[1;34m(self, data, index, dtype, name, copy, fastpath)\u001b[0m\n\u001b[0;32m    <a href='file:///c%3A/Users/Research/.virtualenvs/trying_again/.wotan_work/lib/site-packages/pandas/core/series.py?line=439'>440</a>\u001b[0m     index \u001b[39m=\u001b[39m default_index(\u001b[39mlen\u001b[39m(data))\n\u001b[0;32m    <a href='file:///c%3A/Users/Research/.virtualenvs/trying_again/.wotan_work/lib/site-packages/pandas/core/series.py?line=440'>441</a>\u001b[0m \u001b[39melif\u001b[39;00m is_list_like(data):\n\u001b[1;32m--> <a href='file:///c%3A/Users/Research/.virtualenvs/trying_again/.wotan_work/lib/site-packages/pandas/core/series.py?line=441'>442</a>\u001b[0m     com\u001b[39m.\u001b[39;49mrequire_length_match(data, index)\n\u001b[0;32m    <a href='file:///c%3A/Users/Research/.virtualenvs/trying_again/.wotan_work/lib/site-packages/pandas/core/series.py?line=443'>444</a>\u001b[0m \u001b[39m# create/copy the manager\u001b[39;00m\n\u001b[0;32m    <a href='file:///c%3A/Users/Research/.virtualenvs/trying_again/.wotan_work/lib/site-packages/pandas/core/series.py?line=444'>445</a>\u001b[0m \u001b[39mif\u001b[39;00m \u001b[39misinstance\u001b[39m(data, (SingleBlockManager, SingleArrayManager)):\n",
      "File \u001b[1;32mc:\\Users\\Research\\.virtualenvs\\trying_again\\.wotan_work\\lib\\site-packages\\pandas\\core\\common.py:557\u001b[0m, in \u001b[0;36mrequire_length_match\u001b[1;34m(data, index)\u001b[0m\n\u001b[0;32m    <a href='file:///c%3A/Users/Research/.virtualenvs/trying_again/.wotan_work/lib/site-packages/pandas/core/common.py?line=552'>553</a>\u001b[0m \u001b[39m\"\"\"\u001b[39;00m\n\u001b[0;32m    <a href='file:///c%3A/Users/Research/.virtualenvs/trying_again/.wotan_work/lib/site-packages/pandas/core/common.py?line=553'>554</a>\u001b[0m \u001b[39mCheck the length of data matches the length of the index.\u001b[39;00m\n\u001b[0;32m    <a href='file:///c%3A/Users/Research/.virtualenvs/trying_again/.wotan_work/lib/site-packages/pandas/core/common.py?line=554'>555</a>\u001b[0m \u001b[39m\"\"\"\u001b[39;00m\n\u001b[0;32m    <a href='file:///c%3A/Users/Research/.virtualenvs/trying_again/.wotan_work/lib/site-packages/pandas/core/common.py?line=555'>556</a>\u001b[0m \u001b[39mif\u001b[39;00m \u001b[39mlen\u001b[39m(data) \u001b[39m!=\u001b[39m \u001b[39mlen\u001b[39m(index):\n\u001b[1;32m--> <a href='file:///c%3A/Users/Research/.virtualenvs/trying_again/.wotan_work/lib/site-packages/pandas/core/common.py?line=556'>557</a>\u001b[0m     \u001b[39mraise\u001b[39;00m \u001b[39mValueError\u001b[39;00m(\n\u001b[0;32m    <a href='file:///c%3A/Users/Research/.virtualenvs/trying_again/.wotan_work/lib/site-packages/pandas/core/common.py?line=557'>558</a>\u001b[0m         \u001b[39m\"\u001b[39m\u001b[39mLength of values \u001b[39m\u001b[39m\"\u001b[39m\n\u001b[0;32m    <a href='file:///c%3A/Users/Research/.virtualenvs/trying_again/.wotan_work/lib/site-packages/pandas/core/common.py?line=558'>559</a>\u001b[0m         \u001b[39mf\u001b[39m\u001b[39m\"\u001b[39m\u001b[39m(\u001b[39m\u001b[39m{\u001b[39;00m\u001b[39mlen\u001b[39m(data)\u001b[39m}\u001b[39;00m\u001b[39m) \u001b[39m\u001b[39m\"\u001b[39m\n\u001b[0;32m    <a href='file:///c%3A/Users/Research/.virtualenvs/trying_again/.wotan_work/lib/site-packages/pandas/core/common.py?line=559'>560</a>\u001b[0m         \u001b[39m\"\u001b[39m\u001b[39mdoes not match length of index \u001b[39m\u001b[39m\"\u001b[39m\n\u001b[0;32m    <a href='file:///c%3A/Users/Research/.virtualenvs/trying_again/.wotan_work/lib/site-packages/pandas/core/common.py?line=560'>561</a>\u001b[0m         \u001b[39mf\u001b[39m\u001b[39m\"\u001b[39m\u001b[39m(\u001b[39m\u001b[39m{\u001b[39;00m\u001b[39mlen\u001b[39m(index)\u001b[39m}\u001b[39;00m\u001b[39m)\u001b[39m\u001b[39m\"\u001b[39m\n\u001b[0;32m    <a href='file:///c%3A/Users/Research/.virtualenvs/trying_again/.wotan_work/lib/site-packages/pandas/core/common.py?line=561'>562</a>\u001b[0m     )\n",
      "\u001b[1;31mValueError\u001b[0m: Length of values (18278) does not match length of index (18279)"
     ]
    }
   ],
   "source": [
    "clean_time, clean_flux, flair_time, flair_flux = remove_flares(time,flux)\n",
    "\n",
    "plt.scatter(clean_time, clean_flux)\n",
    "plt.scatter(flair_time, flair_flux)"
   ]
  },
  {
   "cell_type": "code",
   "execution_count": 28,
   "metadata": {},
   "outputs": [
    {
     "data": {
      "image/png": "[encoded data removed]",
      "text/plain": [
       "<Figure size 432x288 with 1 Axes>"
      ]
     },
     "metadata": {
      "needs_background": "light"
     },
     "output_type": "display_data"
    }
   ],
   "source": [
    "plt.scatter(time, flux)\n",
    "plt.show()"
   ]
  },
  {
   "cell_type": "code",
   "execution_count": 23,
   "metadata": {},
   "outputs": [
    {
     "name": "stdout",
     "output_type": "stream",
     "text": [
      "4\n"
     ]
    }
   ],
   "source": [
    "cutoffs = np.array([2,2,2,2,2,2,2,2,2,2,2])\n",
    "vals = np.array([1]*(len(cutoffs)-4)+4*[3])\n",
    "\n",
    "print(len(np.where(vals>cutoffs)[0]))\n"
   ]
  },
  {
   "cell_type": "code",
   "execution_count": 26,
   "metadata": {},
   "outputs": [
    {
     "name": "stdout",
     "output_type": "stream",
     "text": [
      "[1 2 3 4]\n"
     ]
    }
   ],
   "source": [
    "import pandas as pd\n",
    "\n",
    "print(np.concatenate(([1,2], pd.Series([3,4]))))"
   ]
  },
  {
   "cell_type": "code",
   "execution_count": null,
   "metadata": {},
   "outputs": [],
   "source": []
  }
 ],
 "metadata": {
  "interpreter": {
   "hash": "d1f68e159676cba1ad0c10cf6d041c1a6ef2774cfbae41b5b6ffe44e35fb1b7e"
  },
  "kernelspec": {
   "display_name": "Python 3.8.5 ('.wotan_work')",
   "language": "python",
   "name": "python3"
  },
  "language_info": {
   "codemirror_mode": {
    "name": "ipython",
    "version": 3
   },
   "file_extension": ".py",
   "mimetype": "text/x-python",
   "name": "python",
   "nbconvert_exporter": "python",
   "pygments_lexer": "ipython3",
   "version": "3.8.5"
  },
  "orig_nbformat": 4
 },
 "nbformat": 4,
 "nbformat_minor": 2
}
