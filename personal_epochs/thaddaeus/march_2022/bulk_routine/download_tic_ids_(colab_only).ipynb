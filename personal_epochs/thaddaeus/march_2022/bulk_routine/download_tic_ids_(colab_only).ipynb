{
  "nbformat": 4,
  "nbformat_minor": 0,
  "metadata": {
    "colab": {
      "name": "download tic ids (colab only).ipynb",
      "provenance": []
    },
    "kernelspec": {
      "name": "python3",
      "display_name": "Python 3"
    },
    "language_info": {
      "name": "python"
    }
  },
  "cells": [
    {
      "cell_type": "code",
      "source": [
        "def test():\n",
        "    return None\n",
        "\n",
        "result = test()\n",
        "\n",
        "if result is None: \n",
        "    print('it is none')\n",
        "else: \n",
        "    print('it is not none')"
      ],
      "metadata": {
        "colab": {
          "base_uri": "https://localhost:8080/"
        },
        "id": "mzkEFIa6mCsI",
        "outputId": "ef6e40f2-2b8e-4734-eb8a-ef0824401620"
      },
      "execution_count": 3,
      "outputs": [
        {
          "output_type": "stream",
          "name": "stdout",
          "text": [
            "it is none\n"
          ]
        }
      ]
    },
    {
      "cell_type": "code",
      "source": [
        "from IPython.utils import io\n",
        "from google.colab import output "
      ],
      "metadata": {
        "id": "LgLctafTu26d"
      },
      "execution_count": 4,
      "outputs": []
    },
    {
      "cell_type": "code",
      "source": [
        "def catalog_download(): \n",
        "    from astrobase.services.identifiers import gaiadr2_to_tic\n",
        "    import pandas as pd\n",
        "    import numpy as np\n",
        "\n",
        "    initial_df = pd.read_csv('https://raw.githubusercontent.com/HarritonResearchLab/sunnyhills/main/data/current/full_key.csv')\n",
        "\n",
        "    initial_gaia_ids = np.array(initial_df['GDR2_ID'])\n",
        "    distances = np.array(initial_df['Distance'])\n",
        "\n",
        "    length = float(len(distances))\n",
        "\n",
        "    with open('current_sample.csv', 'w') as f:\n",
        "        column_header = ','.join(list(initial_df))\n",
        "        column_header = 'TIC_ID,'+column_header\n",
        "        f.write(column_header+'\\n')\n",
        "\n",
        "    gaia_ids = []\n",
        "    tic_ids = []\n",
        "    indices = []\n",
        "\n",
        "    raise_error = False \n",
        "    num_saved = 0\n",
        "    index = 0\n",
        "    for gaia_id in initial_gaia_ids: \n",
        "\n",
        "        if distances[index]<=100: \n",
        "            try: \n",
        "                tic_id = gaiadr2_to_tic(str(gaia_id))\n",
        "                \n",
        "                if tic_id is None: \n",
        "                    continue \n",
        "                \n",
        "                else: \n",
        "                    df_row = initial_df.iloc[[index]]\n",
        "                    save_string = ','.join([str(i) for i in df_row.values.tolist()])\n",
        "                    save_string = 'TIC_'+str(tic_id)+','+save_string\n",
        "                    with open('current_sample.csv', 'a') as f: \n",
        "                        f.write(save_string+'\\n')\n",
        "                        num_saved += 1\n",
        "\n",
        "            except: \n",
        "                continue \n",
        "\n",
        "        if index%10==0: \n",
        "            output.clear()\n",
        "            \n",
        "            prop = float(index)/length\n",
        "            bar_length = int(prop*50)\n",
        "            spaces_length = 50-bar_length \n",
        "            bar = ''.join(bar_length*['='])\n",
        "            spaces = ''.join(spaces_length*[' '])\n",
        "            \n",
        "            percent = str(round(100*prop, 2))\n",
        "            outline = '['+percent+' %] [' + str(num_saved)+' saved ]'+ '['+bar+'>'+spaces+']'\n",
        "            print(outline)\n",
        "\n",
        "        index += 1"
      ],
      "metadata": {
        "id": "G1RRFK_zmPbO"
      },
      "execution_count": 5,
      "outputs": []
    },
    {
      "cell_type": "code",
      "source": [
        "catalog_download()"
      ],
      "metadata": {
        "colab": {
          "base_uri": "https://localhost:8080/"
        },
        "id": "mA-TuQYhw6w8",
        "outputId": "ea11ca55-0f6f-4d40-b9fc-6af18f75d149"
      },
      "execution_count": 6,
      "outputs": [
        {
          "output_type": "stream",
          "name": "stdout",
          "text": [
            "[99.91 %] [939 saved ][=================================================> ]\n"
          ]
        }
      ]
    }
  ]
}