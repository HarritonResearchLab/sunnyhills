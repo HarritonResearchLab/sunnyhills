{
 "cells": [
  {
   "cell_type": "code",
   "execution_count": 4,
   "metadata": {},
   "outputs": [],
   "source": [
    "import numpy as np\n",
    "import lightkurve as lk\n",
    "import matplotlib.pyplot as plt \n",
    "import re\n",
    "from sunnyhills.pipeline_functions import download"
   ]
  },
  {
   "cell_type": "markdown",
   "metadata": {},
   "source": [
    "### check download status? "
   ]
  },
  {
   "cell_type": "code",
   "execution_count": 5,
   "metadata": {},
   "outputs": [
    {
     "name": "stderr",
     "output_type": "stream",
     "text": [
      "C:\\Users\\Research\\.virtualenvs\\trying_again\\.wotan_work\\lib\\site-packages\\lightkurve\\search.py:414: LightkurveWarning: Cannot download from an empty search result.\n",
      "  warnings.warn(\n"
     ]
    },
    {
     "name": "stdout",
     "output_type": "stream",
     "text": [
      "empty search result\n"
     ]
    },
    {
     "name": "stderr",
     "output_type": "stream",
     "text": [
      "No data found for target \"TIC 59276613\".\n"
     ]
    },
    {
     "ename": "AttributeError",
     "evalue": "'SearchResult' object has no attribute 'dowload_all'",
     "output_type": "error",
     "traceback": [
      "\u001b[1;31m---------------------------------------------------------------------------\u001b[0m",
      "\u001b[1;31mTypeError\u001b[0m                                 Traceback (most recent call last)",
      "\u001b[1;32mc:\\Users\\Research\\Documents\\GitHub\\sunnyhills\\personal_epochs\\thaddaeus\\march_2022\\bulk_routine\\fix_missing.ipynb Cell 3'\u001b[0m in \u001b[0;36m<cell line: 2>\u001b[1;34m()\u001b[0m\n\u001b[0;32m      <a href='vscode-notebook-cell:/c%3A/Users/Research/Documents/GitHub/sunnyhills/personal_epochs/thaddaeus/march_2022/bulk_routine/fix_missing.ipynb#ch0000002?line=2'>3</a>\u001b[0m \u001b[39mtry\u001b[39;00m: \n\u001b[1;32m----> <a href='vscode-notebook-cell:/c%3A/Users/Research/Documents/GitHub/sunnyhills/personal_epochs/thaddaeus/march_2022/bulk_routine/fix_missing.ipynb#ch0000002?line=3'>4</a>\u001b[0m     raw_lc, data_found \u001b[39m=\u001b[39m download(ticstr\u001b[39m=\u001b[39;49mtess_id)\n\u001b[0;32m      <a href='vscode-notebook-cell:/c%3A/Users/Research/Documents/GitHub/sunnyhills/personal_epochs/thaddaeus/march_2022/bulk_routine/fix_missing.ipynb#ch0000002?line=4'>5</a>\u001b[0m     \u001b[39mprint\u001b[39m(raw_lc)\n",
      "File \u001b[1;32mc:\\users\\research\\documents\\github\\sunnyhills\\sunnyhills\\pipeline_functions.py:37\u001b[0m, in \u001b[0;36mdownload\u001b[1;34m(ticstr, outdir, logdir)\u001b[0m\n\u001b[0;32m     <a href='file:///c%3A/users/research/documents/github/sunnyhills/sunnyhills/pipeline_functions.py?line=35'>36</a>\u001b[0m lcc \u001b[39m=\u001b[39m lk\u001b[39m.\u001b[39msearch_lightcurve(ticstr\u001b[39m.\u001b[39mreplace(\u001b[39m'\u001b[39m\u001b[39m_\u001b[39m\u001b[39m'\u001b[39m, \u001b[39m'\u001b[39m\u001b[39m \u001b[39m\u001b[39m'\u001b[39m))\u001b[39m.\u001b[39mdownload_all() \u001b[39m# FIX THIS! \u001b[39;00m\n\u001b[1;32m---> <a href='file:///c%3A/users/research/documents/github/sunnyhills/sunnyhills/pipeline_functions.py?line=36'>37</a>\u001b[0m \u001b[39mif\u001b[39;00m \u001b[39mlen\u001b[39;49m(lcc)\u001b[39m>\u001b[39m\u001b[39m0\u001b[39m: \n\u001b[0;32m     <a href='file:///c%3A/users/research/documents/github/sunnyhills/sunnyhills/pipeline_functions.py?line=37'>38</a>\u001b[0m     data_found \u001b[39m=\u001b[39m \u001b[39mTrue\u001b[39;00m \n",
      "\u001b[1;31mTypeError\u001b[0m: object of type 'NoneType' has no len()",
      "\nDuring handling of the above exception, another exception occurred:\n",
      "\u001b[1;31mAttributeError\u001b[0m                            Traceback (most recent call last)",
      "\u001b[1;32mc:\\Users\\Research\\Documents\\GitHub\\sunnyhills\\personal_epochs\\thaddaeus\\march_2022\\bulk_routine\\fix_missing.ipynb Cell 3'\u001b[0m in \u001b[0;36m<cell line: 2>\u001b[1;34m()\u001b[0m\n\u001b[0;32m      <a href='vscode-notebook-cell:/c%3A/Users/Research/Documents/GitHub/sunnyhills/personal_epochs/thaddaeus/march_2022/bulk_routine/fix_missing.ipynb#ch0000002?line=5'>6</a>\u001b[0m \u001b[39mexcept\u001b[39;00m: \n\u001b[0;32m      <a href='vscode-notebook-cell:/c%3A/Users/Research/Documents/GitHub/sunnyhills/personal_epochs/thaddaeus/march_2022/bulk_routine/fix_missing.ipynb#ch0000002?line=6'>7</a>\u001b[0m     \u001b[39mprint\u001b[39m(\u001b[39m'\u001b[39m\u001b[39mempty search result\u001b[39m\u001b[39m'\u001b[39m)\n\u001b[1;32m----> <a href='vscode-notebook-cell:/c%3A/Users/Research/Documents/GitHub/sunnyhills/personal_epochs/thaddaeus/march_2022/bulk_routine/fix_missing.ipynb#ch0000002?line=7'>8</a>\u001b[0m     lc_list \u001b[39m=\u001b[39m lk\u001b[39m.\u001b[39;49msearch_lightcurve(re\u001b[39m.\u001b[39;49msub(\u001b[39m'\u001b[39;49m\u001b[39mTIC _\u001b[39;49m\u001b[39m'\u001b[39;49m, \u001b[39m'\u001b[39;49m\u001b[39m'\u001b[39;49m,tess_id), author\u001b[39m=\u001b[39;49m\u001b[39m'\u001b[39;49m\u001b[39mTESS\u001b[39;49m\u001b[39m'\u001b[39;49m)\u001b[39m.\u001b[39;49mdowload_all()\n\u001b[0;32m      <a href='vscode-notebook-cell:/c%3A/Users/Research/Documents/GitHub/sunnyhills/personal_epochs/thaddaeus/march_2022/bulk_routine/fix_missing.ipynb#ch0000002?line=8'>9</a>\u001b[0m     \u001b[39mprint\u001b[39m(lc_list)\n",
      "\u001b[1;31mAttributeError\u001b[0m: 'SearchResult' object has no attribute 'dowload_all'"
     ]
    }
   ],
   "source": [
    "ids = ['TIC 59276613']\n",
    "for tess_id in ids: \n",
    "    try: \n",
    "        raw_lc, data_found = download(ticstr=tess_id)\n",
    "        print(raw_lc)\n",
    "    except: \n",
    "        print('empty search result')\n",
    "        lc_list = lk.search_lightcurve(re.sub('TIC _', '',tess_id), author='TESS').dowload_all()\n",
    "        print(lc_list)\n",
    "        continue \n"
   ]
  },
  {
   "cell_type": "code",
   "execution_count": 23,
   "metadata": {},
   "outputs": [
    {
     "data": {
      "text/plain": [
       "LightCurveCollection of 8 objects:\n",
       "    0: <TessLightCurve LABEL=\"TIC 435111484\" SECTOR=11 AUTHOR=SPOC FLUX_ORIGIN=pdcsap_flux>\n",
       "    1: <TessLightCurve LABEL=\"TIC 435111484\" SECTOR=11 AUTHOR=SPOC FLUX_ORIGIN=pdcsap_flux>\n",
       "    2: <TessLightCurve LABEL=\"TIC 435111484\" SECTOR=11 AUTHOR=QLP FLUX_ORIGIN=sap_flux>\n",
       "    3: <TessLightCurve LABEL=\"6056392104882486272\" SECTOR=11 AUTHOR=CDIPS FLUX_ORIGIN=irm1>\n",
       "    4: <TessLightCurve LABEL=\"TIC 435111484\" SECTOR=37 AUTHOR=SPOC FLUX_ORIGIN=pdcsap_flux>\n",
       "    5: <TessLightCurve LABEL=\"TIC 435111484\" SECTOR=37 AUTHOR=SPOC FLUX_ORIGIN=pdcsap_flux>\n",
       "    6: <TessLightCurve LABEL=\"TIC 435111484\" SECTOR=38 AUTHOR=SPOC FLUX_ORIGIN=pdcsap_flux>\n",
       "    7: <TessLightCurve LABEL=\"TIC 435111484\" SECTOR=38 AUTHOR=SPOC FLUX_ORIGIN=pdcsap_flux>"
      ]
     },
     "execution_count": 23,
     "metadata": {},
     "output_type": "execute_result"
    }
   ],
   "source": [
    "lc_list = lk.search_lightcurve('TIC 435111484').download_all()\n",
    "lc_list"
   ]
  }
 ],
 "metadata": {
  "interpreter": {
   "hash": "d14116e2d1fd70e99388e3e5a80e32835d7fccd01d8e86910881297f2b900ed0"
  },
  "kernelspec": {
   "display_name": "Python 3.8.5 ('.wotan_work')",
   "language": "python",
   "name": "python3"
  },
  "language_info": {
   "codemirror_mode": {
    "name": "ipython",
    "version": 3
   },
   "file_extension": ".py",
   "mimetype": "text/x-python",
   "name": "python",
   "nbconvert_exporter": "python",
   "pygments_lexer": "ipython3",
   "version": "3.8.5"
  },
  "orig_nbformat": 4
 },
 "nbformat": 4,
 "nbformat_minor": 2
}
