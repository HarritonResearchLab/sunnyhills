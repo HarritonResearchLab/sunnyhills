{
 "cells": [
  {
   "cell_type": "code",
   "execution_count": 1,
   "metadata": {},
   "outputs": [],
   "source": [
    "from sunnyhills.pipeline_functions import download_and_preprocess, download, preprocess\n",
    "import shelve, pickle "
   ]
  },
  {
   "cell_type": "markdown",
   "metadata": {},
   "source": [
    "### download and preprocess light curve"
   ]
  },
  {
   "cell_type": "code",
   "execution_count": 2,
   "metadata": {},
   "outputs": [
    {
     "data": {
      "text/plain": [
       "'\\nfile_to_read = open(\"data.pickle\", \"rb\")\\n\\nloaded_dictionary = pickle.load(file_to_read)\\n'"
      ]
     },
     "execution_count": 2,
     "metadata": {},
     "output_type": "execute_result"
    }
   ],
   "source": [
    "out_dir = './personal_epochs/thaddaeus/march_2022/misc/logs'\n",
    "lc_list, trend_list, raw_list = download_and_preprocess(ticstr='TIC 144282456', outdir=out_dir, logdir=out_dir)\n",
    "\n",
    "# open it with pickle, download and preprocess, open what it looks like from pickle \n",
    "'''\n",
    "file_to_read = open(\"data.pickle\", \"rb\")\n",
    "\n",
    "loaded_dictionary = pickle.load(file_to_read)\n",
    "'''"
   ]
  },
  {
   "cell_type": "markdown",
   "metadata": {},
   "source": [
    "### open downloaded light curve and check log"
   ]
  },
  {
   "cell_type": "code",
   "execution_count": null,
   "metadata": {},
   "outputs": [],
   "source": [
    "import shelve\n",
    "import os\n",
    "from sunnyhills.pipeline_executor import download_and_preprocess\n",
    "\n",
    "rel_path = './personal_epochs/thaddaeus/march_2022/misc/log'\n",
    "\n",
    "lc_list, trend_list, raw_list = download_and_preprocess(ticstr='', outdir=rel_path, logfile=rel_path)"
   ]
  }
 ],
 "metadata": {
  "interpreter": {
   "hash": "5219fa3b3998e06d48bbc241be5aeff588d109c61b8c5b727de04bb5c32a417f"
  },
  "kernelspec": {
   "display_name": "Python 3.9.7 ('base')",
   "language": "python",
   "name": "python3"
  },
  "language_info": {
   "codemirror_mode": {
    "name": "ipython",
    "version": 3
   },
   "file_extension": ".py",
   "mimetype": "text/x-python",
   "name": "python",
   "nbconvert_exporter": "python",
   "pygments_lexer": "ipython3",
   "version": "3.9.7"
  },
  "orig_nbformat": 4
 },
 "nbformat": 4,
 "nbformat_minor": 2
}
