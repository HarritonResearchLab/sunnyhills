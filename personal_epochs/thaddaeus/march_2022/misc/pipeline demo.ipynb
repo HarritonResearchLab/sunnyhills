{
 "cells": [
  {
   "cell_type": "code",
   "execution_count": null,
   "metadata": {},
   "outputs": [],
   "source": [
    "from sunnyhills.pipeline_functions import download_and_preprocess, download, preprocess\n",
    "import shelve, pickle "
   ]
  },
  {
   "cell_type": "code",
   "execution_count": null,
   "metadata": {},
   "outputs": [],
   "source": [
    "# download the light curve, open it with pickle, download and preprocess, open what it looks like from pickle "
   ]
  }
 ],
 "metadata": {
  "interpreter": {
   "hash": "5219fa3b3998e06d48bbc241be5aeff588d109c61b8c5b727de04bb5c32a417f"
  },
  "kernelspec": {
   "display_name": "Python 3.9.7 ('base')",
   "language": "python",
   "name": "python3"
  },
  "language_info": {
   "name": "python",
   "version": "3.9.7"
  },
  "orig_nbformat": 4
 },
 "nbformat": 4,
 "nbformat_minor": 2
}
