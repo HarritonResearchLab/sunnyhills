{
 "cells": [
  {
   "cell_type": "code",
   "execution_count": 21,
   "metadata": {},
   "outputs": [
    {
     "name": "stdout",
     "output_type": "stream",
     "text": [
      "8.981665577207293 15\n"
     ]
    }
   ],
   "source": [
    "import numpy as np \n",
    "import pandas as pd \n",
    "from sunnyhills.pipeline_functions import download, preprocess, run_bls\n",
    "import pickle\n",
    "import time \n",
    "\n",
    "import os \n",
    "\n",
    "data_dir = r'C:\\Users\\Research\\Documents\\GitHub\\sunnyhills\\data\\current\\processed\\lightcurves'\n",
    "\n",
    "times = []\n",
    "\n",
    "n = 15\n",
    "\n",
    "for file in os.listdir(data_dir)[0:n]: \n",
    "    if file != '.gitkeep': \n",
    "        with open(os.path.join(data_dir, file),\"rb\") as f: \n",
    "            content = pickle.load(f)\n",
    "\n",
    "            stitched_lc = content['stitched_lc'][0]\n",
    "            start = time.time()\n",
    "\n",
    "            results, bls_model, in_transit, stats = run_bls(stitched_lc)\n",
    "\n",
    "            end = time.time()\n",
    "\n",
    "            times.append(end-start)\n",
    "\n",
    "print(np.mean(times), n)"
   ]
  },
  {
   "cell_type": "code",
   "execution_count": 4,
   "metadata": {},
   "outputs": [
    {
     "data": {
      "text/plain": [
       "4"
      ]
     },
     "execution_count": 4,
     "metadata": {},
     "output_type": "execute_result"
    }
   ],
   "source": [
    "import multiprocessing \n",
    "multiprocessing.cpu_count()"
   ]
  },
  {
   "cell_type": "code",
   "execution_count": 20,
   "metadata": {},
   "outputs": [
    {
     "name": "stdout",
     "output_type": "stream",
     "text": [
      "['TIC_101433378_lc', 'TIC_11071764_lc', 'TIC_110798661_lc', 'TIC_11568422_lc', 'TIC_117380199_lc', 'TIC_11756637_lc', 'TIC_118278380_lc', 'TIC_124481877_lc', 'TIC_12471629_lc', 'TIC_125882822_lc', 'TIC_125977598_lc', 'TIC_129623324_lc', 'TIC_139993838_lc', 'TIC_148841573_lc']\n"
     ]
    }
   ],
   "source": [
    "ids = []\n",
    "for file in os.listdir(data_dir)[0:n]: \n",
    "    if file!='.gitkeep': \n",
    "        id = file.split('.')[0]\n",
    "        ids.append(id)\n",
    "print(ids)"
   ]
  }
 ],
 "metadata": {
  "interpreter": {
   "hash": "d14116e2d1fd70e99388e3e5a80e32835d7fccd01d8e86910881297f2b900ed0"
  },
  "kernelspec": {
   "display_name": "Python 3.8.5 ('.wotan_work')",
   "language": "python",
   "name": "python3"
  },
  "language_info": {
   "codemirror_mode": {
    "name": "ipython",
    "version": 3
   },
   "file_extension": ".py",
   "mimetype": "text/x-python",
   "name": "python",
   "nbconvert_exporter": "python",
   "pygments_lexer": "ipython3",
   "version": "3.8.5"
  },
  "orig_nbformat": 4
 },
 "nbformat": 4,
 "nbformat_minor": 2
}
