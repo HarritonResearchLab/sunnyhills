{
 "cells": [
  {
   "cell_type": "markdown",
   "metadata": {
    "gradient": {
     "editing": false,
     "id": "a4090294-3349-4815-96f4-98010b657359",
     "kernelId": "026b1fee-dc4c-4616-b4fe-e4ae741541b3"
    }
   },
   "source": [
    "# Testing BLS Speed Up in Gradient Notebook\n",
    "Last modified: Nov 18th 2021"
   ]
  },
  {
   "cell_type": "code",
   "execution_count": null,
   "metadata": {
    "collapsed": false,
    "gradient": {
     "editing": false,
     "execution_count": 10,
     "id": "2bf2e195-1120-48f1-9753-3c36dfe4936d",
     "kernelId": "026b1fee-dc4c-4616-b4fe-e4ae741541b3",
     "source_hidden": false
    }
   },
   "outputs": [
    {
     "name": "stdout",
     "output_type": "stream",
     "text": [
      "Looking in indexes: https://pypi.org/simple, https://pypi.ngc.nvidia.com\r\n",
      "Requirement already satisfied: astropy in /opt/conda/lib/python3.8/site-packages (5.0.2)\r\n"
     ]
    },
    {
     "name": "stdout",
     "output_type": "stream",
     "text": [
      "Requirement already satisfied: PyYAML>=3.13 in /opt/conda/lib/python3.8/site-packages (from astropy) (5.4.1)\r\n",
      "Requirement already satisfied: packaging>=19.0 in /opt/conda/lib/python3.8/site-packages (from astropy) (21.3)\r\n",
      "Requirement already satisfied: numpy>=1.18 in /opt/conda/lib/python3.8/site-packages (from astropy) (1.22.2)\r\n",
      "Requirement already satisfied: pyerfa>=2.0 in /opt/conda/lib/python3.8/site-packages (from astropy) (2.0.0.1)\r\n",
      "Requirement already satisfied: pyparsing!=3.0.5,>=2.0.2 in /opt/conda/lib/python3.8/site-packages (from packaging>=19.0->astropy) (3.0.7)\r\n"
     ]
    },
    {
     "name": "stdout",
     "output_type": "stream",
     "text": [
      "\u001b[33mWARNING: Running pip as the 'root' user can result in broken permissions and conflicting behaviour with the system package manager. It is recommended to use a virtual environment instead: https://pip.pypa.io/warnings/venv\u001b[0m\r\n"
     ]
    }
   ],
   "source": [
    "!pip install astropy "
   ]
  },
  {
   "cell_type": "code",
   "execution_count": null,
   "metadata": {
    "collapsed": false,
    "gradient": {
     "editing": false,
     "execution_count": 20,
     "id": "396e96ca-8683-45ef-bfe1-cef86788ac13",
     "kernelId": "026b1fee-dc4c-4616-b4fe-e4ae741541b3",
     "source_hidden": false
    }
   },
   "outputs": [],
   "source": [
    "def run_bls(stitched_lc, \n",
    "            bls_params: dict = {'min_per':0.5, 'max_per':15, \n",
    "                                'minimum_n_transit':2, \n",
    "                                'freq_factor':1,\n",
    "                                'durations':[0.05, 0.06666666666666668, \n",
    "                                             0.08333333333333334, 0.1,\n",
    "                                             0.11666666666666668, \n",
    "                                             0.13333333333333336,\n",
    "                                             0.15000000000000002, \n",
    "                                             0.16666666666666669, \n",
    "                                             0.18333333333333335, 0.2], \n",
    "                                'objective':'snr'}, \n",
    "            compute_stats: bool = True): \n",
    "\n",
    "    '''\n",
    "    args: \n",
    "        stitched_lc: list of stitched light curve arrays [time, flux]\n",
    "        bls_params: params for bls execution. see documentation\n",
    "        compute_stats: compute statistics on best period/duration combination? default False\n",
    "    returns: \n",
    "        results: the BLS results array \n",
    "        bls_model: the BLS model  \n",
    "        in_transit_mask: mask for the in_transit points. to get not in transit, do ~in_transit_mask\n",
    "        stats: if compute_stats==True, then the stats on the best period/duration/t0 are returned\n",
    "    '''\n",
    "\n",
    "    from astropy.timeseries import BoxLeastSquares\n",
    "    import numpy as np\n",
    "\n",
    "    time = stitched_lc['time']\n",
    "    flux = stitched_lc['flux']\n",
    "\n",
    "    durations = np.array(bls_params['durations'])\n",
    "    bls_model = BoxLeastSquares(t=time, y=flux)\n",
    "    results = bls_model.autopower(durations, frequency_factor=bls_params['freq_factor'], \n",
    "                            minimum_period=bls_params['min_per'], \n",
    "                            maximum_period=bls_params['max_per'],\n",
    "                            objective=bls_params['objective'])\n",
    "\n",
    "    index = np.argmax(results.power)\n",
    "    period = results.period[index]\n",
    "    t0 = results.transit_time[index]\n",
    "    duration = results.duration[index]\n",
    "    in_transit = bls_model.transit_mask(time, period, 2*duration, t0)\n",
    "    if compute_stats: \n",
    "        stats = bls_model.compute_stats(period, duration, t0)\n",
    "        return results, bls_model, in_transit, stats\n",
    "\n",
    "    else: \n",
    "        return results, bls_model, in_transit "
   ]
  },
  {
   "cell_type": "code",
   "execution_count": null,
   "metadata": {
    "collapsed": false,
    "gradient": {
     "editing": false,
     "execution_count": 23,
     "id": "782d1a79-7024-48c7-ac93-de9fa2dd2620",
     "kernelId": "026b1fee-dc4c-4616-b4fe-e4ae741541b3",
     "source_hidden": false
    }
   },
   "outputs": [
    {
     "name": "stdout",
     "output_type": "stream",
     "text": [
      "4.789911219051906 15\n"
     ]
    }
   ],
   "source": [
    "ids = ['TIC_101433378_lc', 'TIC_11071764_lc', 'TIC_110798661_lc', 'TIC_11568422_lc', 'TIC_117380199_lc', 'TIC_11756637_lc', 'TIC_118278380_lc', 'TIC_124481877_lc', 'TIC_12471629_lc', 'TIC_125882822_lc', 'TIC_125977598_lc', 'TIC_129623324_lc', 'TIC_139993838_lc', 'TIC_148841573_lc']\n",
    "\n",
    "import numpy as np \n",
    "import pandas as pd \n",
    "import pickle\n",
    "import time \n",
    "\n",
    "\n",
    "times = []\n",
    "\n",
    "n = 15\n",
    "\n",
    "for file in ids:  \n",
    "    with open(file+'.pickle',\"rb\") as f: \n",
    "        content = pickle.load(f)\n",
    "\n",
    "        stitched_lc = content['stitched_lc'][0]\n",
    "        start = time.time()\n",
    "\n",
    "        results, bls_model, in_transit, stats = run_bls(stitched_lc)\n",
    "\n",
    "        end = time.time()\n",
    "\n",
    "        times.append(end-start)\n",
    "\n",
    "print(np.mean(times), n)"
   ]
  },
  {
   "cell_type": "code",
   "execution_count": null,
   "metadata": {
    "collapsed": false,
    "gradient": {
     "editing": false,
     "execution_count": 19,
     "id": "807bd08c-d72b-4dbf-adc6-468653904931",
     "kernelId": "026b1fee-dc4c-4616-b4fe-e4ae741541b3",
     "source_hidden": false
    }
   },
   "outputs": [
    {
     "name": "stdout",
     "output_type": "stream",
     "text": [
      "92\n"
     ]
    }
   ],
   "source": [
    "import os \n",
    "counter = 0\n",
    "for file in os.listdir(): \n",
    "    if 'pickle' in file: \n",
    "        counter+=1 \n",
    "print(counter)"
   ]
  },
  {
   "cell_type": "code",
   "execution_count": null,
   "metadata": {
    "collapsed": false,
    "gradient": {
     "editing": false,
     "id": "889d6059-7c74-471c-af9e-43bd242111e8",
     "kernelId": "026b1fee-dc4c-4616-b4fe-e4ae741541b3",
     "source_hidden": false
    }
   },
   "outputs": [],
   "source": []
  }
 ],
 "metadata": {
  "kernelspec": {
   "display_name": "Python 3 (ipykernel)",
   "language": "python",
   "name": "python3"
  },
  "language_info": {
   "codemirror_mode": {
    "name": "ipython",
    "version": 3
   },
   "file_extension": ".py",
   "mimetype": "text/x-python",
   "name": "python",
   "nbconvert_exporter": "python",
   "pygments_lexer": "ipython3",
   "version": "3.8.12"
  }
 },
 "nbformat": 4,
 "nbformat_minor": 4
}
