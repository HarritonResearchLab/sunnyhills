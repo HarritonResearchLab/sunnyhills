{
  "cells": [
    {
      "cell_type": "code",
      "execution_count": null,
      "metadata": {
        "colab": {
          "base_uri": "https://localhost:8080/"
        },
        "id": "tg5siez5uCZA",
        "outputId": "6fcab0a8-1a3e-42af-bf72-729a56c6038c"
      },
      "outputs": [
        {
          "output_type": "stream",
          "name": "stdout",
          "text": [
            "['second_dict_0', 'dict_0', 'dict_2', 'second_dict_1']\n"
          ]
        }
      ],
      "source": [
        "import shelve\n",
        "\n",
        "dict1 = {\"a\": 1, \"b\": 2, \"c\": 3}\n",
        "dict2 = {1: \"a\", 2: \"b\", 3: \"c\"}\n",
        "\n",
        "log_file = 'dictionary-shelf'\n",
        "\n",
        "with shelve.open(log_file, \"c\") as shelf:\n",
        "    for i in range(3):\n",
        "        shelf_name = 'dict_'+str(i)\n",
        "        shelf[shelf_name] = dict1\n",
        "\n",
        "with shelve.open(log_file, 'w') as shelf:\n",
        "    for i in range(2): \n",
        "        shelf_name = 'second_dict_'+str(i)\n",
        "        shelf[shelf_name] = dict2\n",
        "\n",
        "    del shelf['dict_1'] # how to delete!!!!!!  \n",
        "\n",
        "# how to read: \n",
        "\n",
        "'''\n",
        "with shelve.open(log_file, \"r\") as shelf:\n",
        "    dict3 = shelf[\"first\"]\n",
        "    dict4 = shelf[\"second\"]\n",
        "'''\n",
        "\n",
        "with shelve.open(log_file, 'r') as shelf: \n",
        "    print(list(shelf.keys()))"
      ]
    },
    {
      "cell_type": "markdown",
      "source": [
        "# Notes on shelve\n",
        "\n",
        "## Shelve Opening Flag Meanings\n",
        "\n",
        "| Value      | Meaning |\n",
        "| ----------- | ------------------- |\n",
        "| `'r'` | Open existing database for reading only (default)|\n",
        "| `'w'` | Open existing database for reading and writing |\n",
        "| `'c'` | Open database for reading and writing, creating it if it doesn’t exist |\n",
        "| `'n'`| Always create a new, empty database, open for reading and writing |\n",
        "\n",
        "## Operation Notes\n",
        "* Open new shelve file: \n",
        "```python \n",
        "with shelve.open(file_name, \"c\") as shelf:\n",
        "        shelf['shelf_name'] = example_dictionary\n",
        "```\n",
        "\n",
        "* Open with read write capabilities shelve file that already exists, and delete a dictionary within it: \n",
        "```python\n",
        "with shelve.open(file_name, 'w') as shelf:\n",
        "    if 'example_key' in shelf: \n",
        "        del shelf['example_key']\n",
        "```\n",
        "\n",
        "* Open shelve file, print key, and read dictionaries within it: \n",
        "```python\n",
        "with shelve.open(file_name, 'r') as shelf:\n",
        "    print(list(shelf.keys()))\n",
        "\n",
        "    example_dictionary = shelf['example_name']\n",
        "```\n",
        "\n",
        "\n",
        "\n",
        "## Other Notes\n",
        "* A “shelf” is a persistent, dictionary-like object\n",
        "* The difference with “dbm” databases is that the values (not the keys!) in a shelf can be essentially arbitrary Python objects — anything that the pickle module can handle.\n",
        "* The shelve allows you to store pickled objects ... in a perseistent manner. It is useful to store large amount of data because Python performs *shelf lookups as needed* instead of loading the entire shelf in memory.\n"
      ],
      "metadata": {
        "id": "Xxr9giIRxlPS"
      }
    },
    {
      "cell_type": "code",
      "source": [
        "\n",
        "def download(\n",
        "    ticstr: str, \n",
        "    outdir: str = 'none', \n",
        "    logfile: str = 'none'): \n",
        "    ''' \n",
        "    Args:\n",
        "        outdir: directory where lightcurves will be saved. If not set, data will not be saved.  --> FIX!\n",
        "        ticstr: e.g., 'TIC 441420236'.  \n",
        "    Returns: \n",
        "        raw_list: list of light curve ojects that mean criteria but have not been processed (i.e. not detrended, normalized, or sigma-clipped) \n",
        "    '''\n",
        "    import numpy as np \n",
        "    import lightkurve as lk \n",
        "\n",
        "    # get the light curve\n",
        "    lcc = lk.search_lightcurve(ticstr).download_all()\n",
        "\n",
        "    # select only the two-minute cadence SPOC-reduced data; convert to a list.\n",
        "    # note that this conversion approach works for any LightCurveCollection\n",
        "    # returned by lightkurve -- no need to hand-pick the right ones.  the exact\n",
        "    # condition below says \"if the interval is between 119 and 121 seconds,\n",
        "    # take it\".\n",
        "    raw_list = [_l for _l in lcc\n",
        "            if\n",
        "            _l.meta['ORIGIN']=='NASA/Ames'\n",
        "            and\n",
        "            np.isclose(\n",
        "                120,\n",
        "                np.nanmedian(np.diff(_l.remove_outliers().time.value))*24*60*60,\n",
        "                atol=1\n",
        "            )\n",
        "    ]\n",
        "\n",
        "    raw_list = [_l for _l in raw_list if _l.meta['FLUX_ORIGIN']=='pdcsap_flux']\n",
        "\n",
        "       \n",
        "    if logfile != 'none': \n",
        "        import shelve\n",
        "        with shelve.open(log_file, \"c\") as shelf:\n",
        "            log_dict = {'sectors', len(raw_list)}\n",
        "            dict_name = 'download:'+ticstr.replace(' ','')\n",
        "            shelf[dict_name] = log_dict\n",
        "        \n",
        "    return raw_list\n"
      ],
      "metadata": {
        "id": "YH-B6tfl1qVA"
      },
      "execution_count": 26,
      "outputs": []
    },
    {
      "cell_type": "code",
      "source": [
        "raw_list = download('TIC 165818534', logfile='test-shelf')\n",
        "\n",
        "import shelve\n",
        "with shelve.open('test-shelf', \"c\") as shelf:\n",
        "    log_dict = {'sectors', len([3,3,3,3])}\n",
        "    dict_name = 'TIC 165818534'.replace(' ','_')\n",
        "    shelf[dict_name] = log_dict"
      ],
      "metadata": {
        "id": "cEu13Qru1svd",
        "colab": {
          "base_uri": "https://localhost:8080/"
        },
        "outputId": "195c3124-92ec-42b1-85fa-a3ff14f7455c"
      },
      "execution_count": 37,
      "outputs": [
        {
          "output_type": "stream",
          "name": "stdout",
          "text": [
            "saved?\n"
          ]
        }
      ]
    },
    {
      "cell_type": "code",
      "source": [
        "with shelve.open('test-shelf', 'r') as shelf:\n",
        "    print(shelf['TIC_165818534']) "
      ],
      "metadata": {
        "colab": {
          "base_uri": "https://localhost:8080/"
        },
        "id": "_cNg8y3J2KN5",
        "outputId": "93ed1c81-45cb-42bc-fac6-228aee017eed"
      },
      "execution_count": 38,
      "outputs": [
        {
          "output_type": "stream",
          "name": "stdout",
          "text": [
            "{'sectors', 4}\n"
          ]
        }
      ]
    }
  ],
  "metadata": {
    "colab": {
      "machine_shape": "hm",
      "name": "testing shelf",
      "provenance": []
    },
    "kernelspec": {
      "display_name": "Python 3",
      "name": "python3"
    },
    "language_info": {
      "name": "python"
    }
  },
  "nbformat": 4,
  "nbformat_minor": 0
}