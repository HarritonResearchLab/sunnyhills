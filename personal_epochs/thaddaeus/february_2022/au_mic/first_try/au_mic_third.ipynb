{
 "cells": [
  {
   "cell_type": "code",
   "execution_count": 6,
   "metadata": {},
   "outputs": [],
   "source": [
    "import pandas as pd\n",
    "import matplotlib.pyplot as plt\n",
    "import numpy as np\n",
    "\n",
    "from altaipony.flarelc import FlareLightCurve\n",
    "from altaipony.lcio import from_mast\n",
    "import lightkurve as lk"
   ]
  },
  {
   "cell_type": "code",
   "execution_count": 17,
   "metadata": {},
   "outputs": [
    {
     "name": "stderr",
     "output_type": "stream",
     "text": [
      "C:\\Users\\Research\\AppData\\Local\\Programs\\Python\\Python38\\lib\\site-packages\\lightkurve\\io\\tess.py:34: ResourceWarning: unclosed file <_io.FileIO name='C:\\\\Users\\\\Research\\\\.lightkurve-cache\\\\mastDownload\\\\TESS\\\\tess2018206045859-s0001-0000000441420236-0120-s\\\\tess2018206045859-s0001-0000000441420236-0120-s_lc.fits' mode='rb' closefd=True>\n",
      "  lc = read_generic_lightcurve(filename, flux_column=flux_column, time_format=\"btjd\")\n",
      "5% (982/19261) of the cadences will be ignored due to the quality mask (quality_bitmask=175).\n",
      "5% (982/19261) of the cadences will be ignored due to the quality mask (quality_bitmask=175).\n",
      "C:\\Users\\Research\\AppData\\Local\\Programs\\Python\\Python38\\lib\\site-packages\\lightkurve\\io\\tess.py:34: ResourceWarning: unclosed file <_io.FileIO name='C:\\\\Users\\\\Research\\\\.lightkurve-cache\\\\mastDownload\\\\HLSP\\\\hlsp_tess-spoc_tess_phot_0000000441420236-s0001_tess_v1_tp\\\\hlsp_tess-spoc_tess_phot_0000000441420236-s0001_tess_v1_lc.fits' mode='rb' closefd=True>\n",
      "  lc = read_generic_lightcurve(filename, flux_column=flux_column, time_format=\"btjd\")\n",
      "8% (98/1282) of the cadences will be ignored due to the quality mask (quality_bitmask=175).\n",
      "8% (98/1282) of the cadences will be ignored due to the quality mask (quality_bitmask=175).\n",
      "C:\\Users\\Research\\AppData\\Local\\Programs\\Python\\Python38\\lib\\site-packages\\lightkurve\\io\\qlp.py:43: ResourceWarning: unclosed file <_io.FileIO name='C:\\\\Users\\\\Research\\\\.lightkurve-cache\\\\mastDownload\\\\HLSP\\\\hlsp_qlp_tess_ffi_s0001-0000000441420236_tess_v01_llc\\\\hlsp_qlp_tess_ffi_s0001-0000000441420236_tess_v01_llc.fits' mode='rb' closefd=True>\n",
      "  lc = read_generic_lightcurve(filename, flux_column=flux_column, flux_err_column=flux_err_column, time_format=\"btjd\")\n",
      "1% (15/1282) of the cadences will be ignored due to the quality mask (quality_bitmask=175).\n",
      "1% (15/1282) of the cadences will be ignored due to the quality mask (quality_bitmask=175).\n",
      "C:\\Users\\Research\\AppData\\Local\\Programs\\Python\\Python38\\lib\\site-packages\\lightkurve\\io\\tasoc.py:25: ResourceWarning: unclosed file <_io.FileIO name='C:\\\\Users\\\\Research\\\\.lightkurve-cache\\\\mastDownload\\\\HLSP\\\\hlsp_tasoc_tess_ffi_tic00441420236-s01-c0120_tess_v04_lc\\\\hlsp_tasoc_tess_ffi_tic00441420236-s01-c0120_tess_v04_lc.fits' mode='rb' closefd=True>\n",
      "  lc = read_generic_lightcurve(\n",
      "C:\\Users\\Research\\AppData\\Local\\Programs\\Python\\Python38\\lib\\site-packages\\lightkurve\\io\\tasoc.py:25: ResourceWarning: unclosed file <_io.FileIO name='C:\\\\Users\\\\Research\\\\.lightkurve-cache\\\\mastDownload\\\\HLSP\\\\hlsp_tasoc_tess_ffi_tic00441420236-s01-c1800_tess_v04_lc\\\\hlsp_tasoc_tess_ffi_tic00441420236-s01-c1800_tess_v04_lc.fits' mode='rb' closefd=True>\n",
      "  lc = read_generic_lightcurve(\n",
      "C:\\Users\\Research\\AppData\\Local\\Programs\\Python\\Python38\\lib\\site-packages\\lightkurve\\io\\tess.py:34: ResourceWarning: unclosed file <_io.FileIO name='C:\\\\Users\\\\Research\\\\.lightkurve-cache\\\\mastDownload\\\\TESS\\\\tess2020186164531-s0027-0000000441420236-0189-a_fast\\\\tess2020186164531-s0027-0000000441420236-0189-a_fast-lc.fits' mode='rb' closefd=True>\n",
      "  lc = read_generic_lightcurve(filename, flux_column=flux_column, time_format=\"btjd\")\n",
      "0% (154/100890) of the cadences will be ignored due to the quality mask (quality_bitmask=175).\n",
      "0% (154/100890) of the cadences will be ignored due to the quality mask (quality_bitmask=175).\n",
      "C:\\Users\\Research\\AppData\\Local\\Programs\\Python\\Python38\\lib\\site-packages\\lightkurve\\io\\tess.py:34: ResourceWarning: unclosed file <_io.FileIO name='C:\\\\Users\\\\Research\\\\.lightkurve-cache\\\\mastDownload\\\\TESS\\\\tess2020186164531-s0027-0000000441420236-0189-s\\\\tess2020186164531-s0027-0000000441420236-0189-s_lc.fits' mode='rb' closefd=True>\n",
      "  lc = read_generic_lightcurve(filename, flux_column=flux_column, time_format=\"btjd\")\n",
      "0% (31/16812) of the cadences will be ignored due to the quality mask (quality_bitmask=175).\n",
      "0% (31/16812) of the cadences will be ignored due to the quality mask (quality_bitmask=175).\n",
      "C:\\Users\\Research\\AppData\\Local\\Programs\\Python\\Python38\\lib\\site-packages\\lightkurve\\io\\tess.py:34: ResourceWarning: unclosed file <_io.FileIO name='C:\\\\Users\\\\Research\\\\.lightkurve-cache\\\\mastDownload\\\\HLSP\\\\hlsp_tess-spoc_tess_phot_0000000441420236-s0027_tess_v1_tp\\\\hlsp_tess-spoc_tess_phot_0000000441420236-s0027_tess_v1_lc.fits' mode='rb' closefd=True>\n",
      "  lc = read_generic_lightcurve(filename, flux_column=flux_column, time_format=\"btjd\")\n",
      "0% (10/3360) of the cadences will be ignored due to the quality mask (quality_bitmask=175).\n",
      "0% (10/3360) of the cadences will be ignored due to the quality mask (quality_bitmask=175).\n",
      "C:\\Users\\Research\\AppData\\Local\\Programs\\Python\\Python38\\lib\\site-packages\\lightkurve\\io\\qlp.py:43: ResourceWarning: unclosed file <_io.FileIO name='C:\\\\Users\\\\Research\\\\.lightkurve-cache\\\\mastDownload\\\\HLSP\\\\hlsp_qlp_tess_ffi_s0027-0000000441420236_tess_v01_llc\\\\hlsp_qlp_tess_ffi_s0027-0000000441420236_tess_v01_llc.fits' mode='rb' closefd=True>\n",
      "  lc = read_generic_lightcurve(filename, flux_column=flux_column, flux_err_column=flux_err_column, time_format=\"btjd\")\n",
      "0% (9/3360) of the cadences will be ignored due to the quality mask (quality_bitmask=175).\n",
      "0% (9/3360) of the cadences will be ignored due to the quality mask (quality_bitmask=175).\n"
     ]
    }
   ],
   "source": [
    "full_raw = lk.search_lightcurve('TIC 441420236').download_all()\n",
    "raw_lc = full_raw[2]\n",
    "#raw_lc = test_raw.stitch()\n",
    "\n",
    "raw_flc = FlareLightCurve(time=raw_lc.time, flux=raw_lc.flux)"
   ]
  },
  {
   "cell_type": "code",
   "execution_count": 18,
   "metadata": {},
   "outputs": [],
   "source": [
    "flcd = raw_flc.detrend(\"savgol\")"
   ]
  },
  {
   "cell_type": "code",
   "execution_count": 19,
   "metadata": {},
   "outputs": [
    {
     "data": {
      "image/png": "[encoded data removed]",
      "text/plain": [
       "<Figure size 432x288 with 1 Axes>"
      ]
     },
     "metadata": {
      "needs_background": "light"
     },
     "output_type": "display_data"
    }
   ],
   "source": [
    "plt.plot(flcd.time.value, flcd.flux / np.nanmedian(flcd.flux)+0.1, c=\"r\", \n",
    "         label=\"PDCSAP_FLUX\")\n",
    "\n",
    "plt.plot(flcd.time.value, flcd.detrended_flux / np.nanmedian(flcd.detrended_flux),\n",
    "         \"b\", label=\"detrended flux\")\n",
    "\n",
    "plt.xlabel(\"Time - 2457000 [BKJD days]\")\n",
    "plt.ylabel(r\"Flux [e$^-$s$^{-1}$]\")\n",
    "plt.xlim(flcd.time.value[0], flcd.time.value[-1])\n",
    "plt.ylim(.95,1.30)\n",
    "plt.legend(loc=2,fontsize=13)\n",
    "\n",
    "plt.show()"
   ]
  },
  {
   "cell_type": "code",
   "execution_count": 20,
   "metadata": {},
   "outputs": [
    {
     "name": "stderr",
     "output_type": "stream",
     "text": [
      "Found 0 candidate(s) in the (0,629) gap.\n",
      "Found 0 candidate(s) in the (629,1267) gap.\n"
     ]
    },
    {
     "data": {
      "text/html": [
       "<div>\n",
       "<style scoped>\n",
       "    .dataframe tbody tr th:only-of-type {\n",
       "        vertical-align: middle;\n",
       "    }\n",
       "\n",
       "    .dataframe tbody tr th {\n",
       "        vertical-align: top;\n",
       "    }\n",
       "\n",
       "    .dataframe thead th {\n",
       "        text-align: right;\n",
       "    }\n",
       "</style>\n",
       "<table border=\"1\" class=\"dataframe\">\n",
       "  <thead>\n",
       "    <tr style=\"text-align: right;\">\n",
       "      <th></th>\n",
       "      <th>istart</th>\n",
       "      <th>istop</th>\n",
       "      <th>cstart</th>\n",
       "      <th>cstop</th>\n",
       "      <th>tstart</th>\n",
       "      <th>tstop</th>\n",
       "      <th>ed_rec</th>\n",
       "      <th>ed_rec_err</th>\n",
       "      <th>ampl_rec</th>\n",
       "      <th>dur</th>\n",
       "    </tr>\n",
       "  </thead>\n",
       "  <tbody>\n",
       "  </tbody>\n",
       "</table>\n",
       "</div>"
      ],
      "text/plain": [
       "Empty DataFrame\n",
       "Columns: [istart, istop, cstart, cstop, tstart, tstop, ed_rec, ed_rec_err, ampl_rec, dur]\n",
       "Index: []"
      ]
     },
     "execution_count": 20,
     "metadata": {},
     "output_type": "execute_result"
    }
   ],
   "source": [
    "flcd = flcd.find_flares()\n",
    "flcd.flares.sort_values(by=\"ed_rec\", ascending=False)"
   ]
  },
  {
   "cell_type": "code",
   "execution_count": 22,
   "metadata": {},
   "outputs": [
    {
     "name": "stderr",
     "output_type": "stream",
     "text": [
      "Found 0 candidate(s) in the (0,629) gap.\n",
      "Found 0 candidate(s) in the (629,1267) gap.\n"
     ]
    },
    {
     "data": {
      "text/html": [
       "<div>\n",
       "<style scoped>\n",
       "    .dataframe tbody tr th:only-of-type {\n",
       "        vertical-align: middle;\n",
       "    }\n",
       "\n",
       "    .dataframe tbody tr th {\n",
       "        vertical-align: top;\n",
       "    }\n",
       "\n",
       "    .dataframe thead th {\n",
       "        text-align: right;\n",
       "    }\n",
       "</style>\n",
       "<table border=\"1\" class=\"dataframe\">\n",
       "  <thead>\n",
       "    <tr style=\"text-align: right;\">\n",
       "      <th></th>\n",
       "      <th>istart</th>\n",
       "      <th>istop</th>\n",
       "      <th>cstart</th>\n",
       "      <th>cstop</th>\n",
       "      <th>tstart</th>\n",
       "      <th>tstop</th>\n",
       "      <th>ed_rec</th>\n",
       "      <th>ed_rec_err</th>\n",
       "      <th>ampl_rec</th>\n",
       "      <th>dur</th>\n",
       "    </tr>\n",
       "  </thead>\n",
       "  <tbody>\n",
       "  </tbody>\n",
       "</table>\n",
       "</div>"
      ],
      "text/plain": [
       "Empty DataFrame\n",
       "Columns: [istart, istop, cstart, cstop, tstart, tstop, ed_rec, ed_rec_err, ampl_rec, dur]\n",
       "Index: []"
      ]
     },
     "execution_count": 22,
     "metadata": {},
     "output_type": "execute_result"
    }
   ],
   "source": [
    "raw_flc.detrended_flux = raw_flc.flux\n",
    "raw_flc.detrended_flux_err = raw_flc.flux_err\n",
    "raw_flc = raw_flc.find_flares()\n",
    "raw_flc.flares.sort_values(by=\"ed_rec\", ascending=False)"
   ]
  }
 ],
 "metadata": {
  "interpreter": {
   "hash": "d3c0f98bc337faacb3dc92d86fb3c3ff5c297fcab3c4973bdf073a6202ea54c1"
  },
  "kernelspec": {
   "display_name": "Python 3.8.5 64-bit",
   "language": "python",
   "name": "python3"
  },
  "language_info": {
   "codemirror_mode": {
    "name": "ipython",
    "version": 3
   },
   "file_extension": ".py",
   "mimetype": "text/x-python",
   "name": "python",
   "nbconvert_exporter": "python",
   "pygments_lexer": "ipython3",
   "version": "3.8.5"
  },
  "orig_nbformat": 4
 },
 "nbformat": 4,
 "nbformat_minor": 2
}
