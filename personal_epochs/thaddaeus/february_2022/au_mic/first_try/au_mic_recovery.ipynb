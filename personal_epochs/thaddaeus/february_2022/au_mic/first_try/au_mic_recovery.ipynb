{
  "nbformat": 4,
  "nbformat_minor": 0,
  "metadata": {
    "colab": {
      "name": "au mic recovery.ipynb",
      "provenance": [],
      "machine_shape": "hm"
    },
    "kernelspec": {
      "name": "python3",
      "display_name": "Python 3"
    },
    "language_info": {
      "name": "python"
    },
    "accelerator": "GPU"
  },
  "cells": [
    {
      "cell_type": "code",
      "execution_count": 74,
      "metadata": {
        "id": "h2QEV9AiR1yW"
      },
      "outputs": [],
      "source": [
        "import wotan\n",
        "import pandas as pd\n",
        "import matplotlib.pyplot as plt\n",
        "import numpy as np\n",
        "from wotan import flatten\n",
        "from wotan import t14\n",
        "import lightkurve as lk\n",
        "import os \n",
        "from transitleastsquares import transitleastsquares, cleaned_array, transit_mask\n",
        "plt.rcParams['figure.dpi'] = 200"
      ]
    },
    {
      "cell_type": "code",
      "source": [
        "import matplotlib\n",
        "print(matplotlib.__version__)"
      ],
      "metadata": {
        "colab": {
          "base_uri": "https://localhost:8080/"
        },
        "id": "tD9M4aMyiHIX",
        "outputId": "7e106384-0556-46b6-86c9-2f9be8efd0ea"
      },
      "execution_count": 69,
      "outputs": [
        {
          "output_type": "stream",
          "name": "stdout",
          "text": [
            "3.3.0\n"
          ]
        }
      ]
    },
    {
      "cell_type": "code",
      "source": [
        "\"\"\"\n",
        "Broken axis example, where the x-axis will have a portion cut out.\n",
        "\"\"\"\n",
        "import matplotlib.pylab as plt\n",
        "import numpy as np\n",
        "\n",
        "\n",
        "x = np.linspace(0,10,100)\n",
        "x[75:] = np.linspace(40,42.5,25)\n",
        "\n",
        "y = np.sin(x)\n",
        "\n",
        "f,(ax,ax2) = plt.subplots(1,2,sharey=True, facecolor='w')\n",
        "\n",
        "# plot the same data on both axes\n",
        "ax.plot(x, y)\n",
        "ax2.plot(x, y)\n",
        "\n",
        "ax.set_xlim(0,7.5)\n",
        "ax2.set_xlim(40,42.5)\n",
        "\n",
        "# hide the spines between ax and ax2\n",
        "ax.spines['right'].set_visible(False)\n",
        "ax2.spines['left'].set_visible(False)\n",
        "ax.yaxis.tick_left()\n",
        "ax.tick_params(labelright='off')\n",
        "ax2.yaxis.tick_right()\n",
        "\n",
        "# This looks pretty good, and was fairly painless, but you can get that\n",
        "# cut-out diagonal lines look with just a bit more work. The important\n",
        "# thing to know here is that in axes coordinates, which are always\n",
        "# between 0-1, spine endpoints are at these locations (0,0), (0,1),\n",
        "# (1,0), and (1,1).  Thus, we just need to put the diagonals in the\n",
        "# appropriate corners of each of our axes, and so long as we use the\n",
        "# right transform and disable clipping.\n",
        "\n",
        "d = .015 # how big to make the diagonal lines in axes coordinates\n",
        "# arguments to pass plot, just so we don't keep repeating them\n",
        "kwargs = dict(transform=ax.transAxes, color='k', clip_on=False)\n",
        "ax.plot((1-d,1+d), (-d,+d), **kwargs)\n",
        "ax.plot((1-d,1+d),(1-d,1+d), **kwargs)\n",
        "\n",
        "kwargs.update(transform=ax2.transAxes)  # switch to the bottom axes\n",
        "ax2.plot((-d,+d), (1-d,1+d), **kwargs)\n",
        "ax2.plot((-d,+d), (-d,+d), **kwargs)\n",
        "\n",
        "# What's cool about this is that now if we vary the distance between\n",
        "# ax and ax2 via f.subplots_adjust(hspace=...) or plt.subplot_tool(),\n",
        "# the diagonal lines will move accordingly, and stay right at the tips\n",
        "# of the spines they are 'breaking'\n",
        "\n",
        "plt.show()"
      ],
      "metadata": {
        "id": "637g4D2Bgpan"
      },
      "execution_count": null,
      "outputs": []
    },
    {
      "cell_type": "code",
      "source": [
        "def make_new_plot(raw_lc, detrendMethod, window_size, plot_color): \n",
        "    raw_times = raw_lc.time.value\n",
        "    raw_fluxes = raw_lc.flux.value\n",
        "    flatten_lc, trend_lc = flatten(\n",
        "    raw_times,          \n",
        "    raw_fluxes,                 \n",
        "    method=detrendMethod,\n",
        "    window_length=window_size,   \n",
        "    break_tolerance=0.5,  \n",
        "    return_trend=True\n",
        "    )\n",
        "\n",
        "    mosaic = \"\"\"\n",
        "        AA\n",
        "        BB\n",
        "        CD\n",
        "        \"\"\"\n",
        "\n",
        "    fig = plt.figure(constrained_layout=True, figsize=(12,6))\n",
        "\n",
        "    ax_dict = fig.subplot_mosaic(mosaic)\n",
        "\n",
        "    ax = ax_dict['A']\n",
        "\n",
        "    ax.scatter(raw_times, raw_fluxes, s=1, color='black')\n",
        "    ax.plot(raw_times, trend_lc, linewidth=2, color=plot_color)\n",
        "    ax.set(title='Raw')\n",
        "\n",
        "\n",
        "    ax = ax_dict['B']\n",
        "    \n",
        "    ax.scatter(raw_times, flatten_lc, s=1, color='black')\n",
        "    \n",
        "    ax.set(title='Detrended')\n",
        "\n",
        "    ax = ax_dict['C']\n",
        "\n",
        "    lc_mean = np.nanmean(flatten_lc)\n",
        "    lc_std = np.nanstd(flatten_lc)\n",
        "\n",
        "    upper_lim = lc_mean+2*np.nanstd(flatten_lc)\n",
        "    mask = np.where(flatten_lc<upper_lim)\n",
        "\n",
        "    sigma_clipped_times = raw_times[mask]\n",
        "    sigma_clipped_fluxes = flatten_lc[mask]\n",
        "\n",
        "    lc_mean = np.nanmean(flatten_lc)\n",
        "    lc_std = np.nanstd(flatten_lc)\n",
        "\n",
        "    lower_lim = lc_mean-3*lc_std\n",
        "\n",
        "    mask = np.where(flatten_lc>lower_lim)\n",
        "\n",
        "    sigma_clipped_times = raw_times[mask]\n",
        "    sigma_clipped_fluxes = flatten_lc[mask]\n",
        "\n",
        "    ax.scatter(sigma_clipped_times, sigma_clipped_fluxes, s=1, color='black')\n",
        "    \n",
        "    ax.set(title=r'$1-\\sigma$'+' Clipped Detrended')\n",
        "\n",
        "\n",
        "    \n",
        "\n",
        "    plt.subplots_adjust(hspace=0.5)"
      ],
      "metadata": {
        "id": "GPtip5u7g9RM"
      },
      "execution_count": 17,
      "outputs": []
    },
    {
      "cell_type": "code",
      "source": [
        "def recover_au_mic(raw_lc, detrendMethod, window_size,plot_color): \n",
        "    raw_times = raw_lc.time.value\n",
        "    raw_fluxes = raw_lc.flux.value\n",
        "    flatten_lc, trend_lc = flatten(\n",
        "    raw_times,          \n",
        "    raw_fluxes,                 \n",
        "    method=detrendMethod,\n",
        "    window_length=window_size,   \n",
        "    break_tolerance=0.5,  \n",
        "    return_trend=True\n",
        "    )\n",
        "\n",
        "    fig, axs = plt.subplots(3,1, figsize=(9,6), sharex=True)\n",
        "\n",
        "    ax = axs[0]\n",
        "\n",
        "    ax.scatter(raw_times, raw_fluxes, s=1, color='black')\n",
        "    ax.plot(raw_times, trend_lc, linewidth=2, color=plot_color)\n",
        "    ax.set(title='Raw')\n",
        "\n",
        "    ax = axs[1]\n",
        "    \n",
        "    ax.scatter(raw_times, flatten_lc, s=1, color='black')\n",
        "    \n",
        "    ax.set(title='Detrended')\n",
        "\n",
        "    ax = axs[2]\n",
        "\n",
        "    lc_mean = np.nanmean(flatten_lc)\n",
        "    lc_std = np.nanstd(flatten_lc)\n",
        "\n",
        "    upper_lim = lc_mean+2*lc_std\n",
        "    mask = np.where(flatten_lc<upper_lim)\n",
        "\n",
        "    sigma_clipped_times = raw_times[mask]\n",
        "    sigma_clipped_fluxes = flatten_lc[mask]\n",
        "\n",
        "    '''\n",
        "    lc_mean = np.nanmean(sigma_clipped_fluxes)\n",
        "\n",
        "    lower_lim = lc_mean-5*lc_std\n",
        "\n",
        "    mask = np.where(sigma_clipped_fluxes>lower_lim)\n",
        "\n",
        "    sigma_clipped_times = sigma_clipped_times[mask]\n",
        "    sigma_clipped_fluxes = sigma_clipped_fluxes[mask]\n",
        "    '''\n",
        "\n",
        "    ax.scatter(sigma_clipped_times, sigma_clipped_fluxes, s=1, color='black')\n",
        "    \n",
        "    ax.set(title=r'$1-\\sigma$'+' Clipped Detrended')\n",
        "\n",
        "\n",
        "\n",
        "    for i in range(3): \n",
        "        axs[i].set_xlabel('Time (d)')\n",
        "        if i>0: \n",
        "            axs[i].set_ylabel('Normalized Flux')\n",
        "            axs[i].axhline(y=upper_lim, lw=0.5)\n",
        "        else: \n",
        "            axs[i].set_ylabel('Flux')\n",
        "\n",
        "\n",
        "    plt.subplots_adjust(hspace=0.5)\n",
        "    plt.savefig('./plots/general_lightcurves.png')\n",
        "\n",
        "    plt.clf()\n",
        "    plt.close()\n",
        "\n",
        "    t = sigma_clipped_times\n",
        "    flux = sigma_clipped_fluxes\n",
        "\n",
        "    for i in range(10): \n",
        "        model = transitleastsquares(t, flux)\n",
        "        results = model.power(use_threads=4, n_transits_min=3, show_progress_bar=False, verbose=False)\n",
        "\n",
        "        # make iteration dir\n",
        "        iteration_dir = './plots/iteration_'+str(i)\n",
        "        \n",
        "        if not os.path.exists(iteration_dir): \n",
        "            os.mkdir(iteration_dir)\n",
        "\n",
        "        # save periodogram \n",
        "\n",
        "        plt.figure()\n",
        "        ax = plt.gca()\n",
        "        ax.axvline(results.period, alpha=0.4, lw=3)\n",
        "        plt.xlim(np.min(results.periods), np.max(results.periods))\n",
        "        for n in range(2, 10):\n",
        "            ax.axvline(n*results.period, alpha=0.4, lw=1, linestyle=\"dashed\")\n",
        "            ax.axvline(results.period / n, alpha=0.4, lw=1, linestyle=\"dashed\")\n",
        "        plt.ylabel(r'SDE')\n",
        "        plt.xlabel('Period (days)')\n",
        "        plt.plot(results.periods, results.power, color='black', lw=0.5)\n",
        "        plt.xlim(0, max(results.periods))\n",
        "\n",
        "        plt.savefig(iteration_dir+'/periodogram.png')\n",
        "        plt.clf()\n",
        "        plt.close()\n",
        "\n",
        "        # phase fold top period and save results to csv \n",
        "\n",
        "        plt.figure()\n",
        "        plt.plot(\n",
        "            results.model_folded_phase,\n",
        "            results.model_folded_model,\n",
        "            color='red')\n",
        "        plt.scatter(\n",
        "            results.folded_phase,\n",
        "            results.folded_y,\n",
        "            color='blue',\n",
        "            s=10,\n",
        "            alpha=0.5,\n",
        "            zorder=2)\n",
        "        plt.xlim(0.48, 0.52)\n",
        "        plt.xlabel('Phase')\n",
        "        plt.ylabel('Relative flux')\n",
        "\n",
        "        plt.savefig(iteration_dir+'/phase_folded.png')\n",
        "        plt.clf()\n",
        "        plt.close()\n",
        "\n",
        "        intransit = transit_mask(t, results.period, 2*results.duration, results.T0)\n",
        "        y_second_run = flux[~intransit]\n",
        "        t_second_run = t[~intransit]\n",
        "        t, flux = cleaned_array(t_second_run, y_second_run)"
      ],
      "metadata": {
        "id": "tRWBL6FqXVFU"
      },
      "execution_count": 77,
      "outputs": []
    },
    {
      "cell_type": "code",
      "source": [
        "# Download AU Mic's light curve\n",
        "raw_lc = lk.search_lightcurve('TIC 441420236').download()\n",
        "\n",
        "recover_au_mic(raw_lc, 'ridge',.01,\"red\")\n",
        "#make_new_plot(raw_lc, 'ridge',.01,\"red\") # not working cuz it won't update to 3.3"
      ],
      "metadata": {
        "colab": {
          "base_uri": "https://localhost:8080/"
        },
        "id": "h2nbWO53XV6v",
        "outputId": "718c4d55-d697-4fdb-ce34-56730a7c1043"
      },
      "execution_count": 78,
      "outputs": [
        {
          "output_type": "stream",
          "name": "stderr",
          "text": [
            "/usr/local/lib/python3.7/dist-packages/lightkurve/search.py:352: LightkurveWarning: Warning: 9 files available to download. Only the first file has been downloaded. Please use `download_all()` or specify additional criteria (e.g. quarter, campaign, or sector) to limit your search.\n",
            "  LightkurveWarning,\n",
            "/usr/local/lib/python3.7/dist-packages/transitleastsquares/main.py:411: UserWarning: 2 of 5 transits without data. The true period may be twice the given period.\n",
            "  warnings.warn(text)\n",
            "/usr/local/lib/python3.7/dist-packages/transitleastsquares/main.py:411: UserWarning: 3 of 7 transits without data. The true period may be twice the given period.\n",
            "  warnings.warn(text)\n",
            "/usr/local/lib/python3.7/dist-packages/transitleastsquares/main.py:411: UserWarning: 2 of 4 transits without data. The true period may be twice the given period.\n",
            "  warnings.warn(text)\n"
          ]
        }
      ]
    },
    {
      "cell_type": "markdown",
      "source": [
        "## multiple sessions "
      ],
      "metadata": {
        "id": "sXnfRtEBmhBQ"
      }
    },
    {
      "cell_type": "code",
      "source": [
        "full_raw = lk.search_lightcurve('TIC 441420236').download_all()\n",
        "\n",
        "stiched_raw = full_raw.stitch()"
      ],
      "metadata": {
        "colab": {
          "base_uri": "https://localhost:8080/"
        },
        "id": "185-JRZzcTtN",
        "outputId": "9db61d15-11c2-4110-f21c-396d43fc9326"
      },
      "execution_count": 9,
      "outputs": [
        {
          "output_type": "stream",
          "name": "stderr",
          "text": [
            "/usr/local/lib/python3.7/dist-packages/lightkurve/collections.py:214: LightkurveWarning: The following columns will be excluded from stitching because the column types are incompatible: {'sap_bkg_err', 'sap_bkg', 'sap_flux'}\n",
            "  LightkurveWarning,\n"
          ]
        }
      ]
    },
    {
      "cell_type": "code",
      "source": [
        "print(full_raw)\n",
        "test_raw = full_raw[2,8]\n",
        "test_stiched = test_raw.stitch()"
      ],
      "metadata": {
        "colab": {
          "base_uri": "https://localhost:8080/"
        },
        "id": "D6CJmmlueLUu",
        "outputId": "c84a8465-2e00-4c72-b16f-77ae73bff730"
      },
      "execution_count": 10,
      "outputs": [
        {
          "output_type": "stream",
          "name": "stdout",
          "text": [
            "LightCurveCollection of 9 objects:\n",
            "    0: <TessLightCurve LABEL=\"TIC 441420236\" SECTOR=1 AUTHOR=SPOC FLUX_ORIGIN=pdcsap_flux>\n",
            "    1: <TessLightCurve LABEL=\"TIC 441420236\" SECTOR=1 AUTHOR=SPOC FLUX_ORIGIN=pdcsap_flux>\n",
            "    2: <TessLightCurve LABEL=\"TIC 441420236\" SECTOR=1 AUTHOR=QLP FLUX_ORIGIN=sap_flux>\n",
            "    3: <TessLightCurve LABEL=\"TIC 441420236\" SECTOR=1 AUTHOR=TASOC FLUX_ORIGIN=flux_raw>\n",
            "    4: <TessLightCurve LABEL=\"TIC 441420236\" SECTOR=1 AUTHOR=TASOC FLUX_ORIGIN=flux_raw>\n",
            "    5: <TessLightCurve LABEL=\"TIC 441420236\" SECTOR=27 AUTHOR=SPOC FLUX_ORIGIN=pdcsap_flux>\n",
            "    6: <TessLightCurve LABEL=\"TIC 441420236\" SECTOR=27 AUTHOR=SPOC FLUX_ORIGIN=pdcsap_flux>\n",
            "    7: <TessLightCurve LABEL=\"TIC 441420236\" SECTOR=27 AUTHOR=SPOC FLUX_ORIGIN=pdcsap_flux>\n",
            "    8: <TessLightCurve LABEL=\"TIC 441420236\" SECTOR=27 AUTHOR=QLP FLUX_ORIGIN=sap_flux>\n"
          ]
        }
      ]
    },
    {
      "cell_type": "code",
      "source": [
        "make_plot(test_stiched, 'ridge',.01,\"red\")"
      ],
      "metadata": {
        "colab": {
          "base_uri": "https://localhost:8080/",
          "height": 404
        },
        "id": "tMn0UzwYfxSV",
        "outputId": "97596f7f-6930-4aa1-f781-0367c287453c"
      },
      "execution_count": 55,
      "outputs": [
        {
          "output_type": "display_data",
          "data": {
            "image/png": "[encoded data removed]",
            "text/plain": [
              "<Figure size 648x432 with 3 Axes>"
            ]
          },
          "metadata": {
            "needs_background": "light"
          }
        }
      ]
    }
  ]
}