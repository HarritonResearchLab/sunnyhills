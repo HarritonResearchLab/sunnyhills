{
 "cells": [
  {
   "cell_type": "code",
   "execution_count": null,
   "metadata": {},
   "outputs": [],
   "source": [
    "import pandas as pd\n",
    "import numpy as np\n",
    "import matplotlib.pyplot as plt\n",
    "import lightkurve as lk"
   ]
  },
  {
   "cell_type": "code",
   "execution_count": null,
   "metadata": {},
   "outputs": [],
   "source": [
    "exoplanet_data = pd.read_csv('C:/Users/60002/Documents/GitHub/sunnyhills/learning/kepler_experiment/data/concise_df.csv')\n",
    "planet_names = np.array(exoplanet_data['name'])\n",
    "shortened_names = planet_names[:5]\n",
    "collections = np.array([])\n",
    "predicted_periods = []\n",
    "radii = np.array(exoplanet_data['radius'][:5])\n",
    "period = np.array(exoplanet_data['orbital_period'][:5])\n",
    "\n",
    "for name in shortened_names:\n",
    "\n",
    "    #download curve data\n",
    "    search_result = lk.search_lightcurve(name,author='Kepler',cadence='long')\n",
    "    lc_collection = search_result.download_all()\n",
    "\n",
    "    # flatten curve\n",
    "    flattened_curve = lc_collection.stitch().flatten(window_length=901).remove_outliers()\n",
    "\n",
    "    bls = flattened_curve.to_periodogram(method='bls',frequency_factor=1500)\n",
    "\n",
    "    #detect the most likely periods\n",
    "    \n",
    "    # TODO: detect the top 5 periods and then plot all of them!\n",
    "    period = bls.period_at_max_power\n",
    "    transit = bls.transit_time_at_max_power\n",
    "\n",
    "    #phase fold the flattened curves\n",
    "    phase_folded_curve = flattened_curve.fold(period =period, epoch_time=transit).scatter()\n",
    "    phase_folded_curve.set_xlim(-3,3)\n",
    "\n",
    "    predicted_periods.append(period)\n",
    "\n",
    "    \n"
   ]
  }
 ],
 "metadata": {
  "interpreter": {
   "hash": "7efe50b28a8cf7423d0780ad3c9d3c44c411320ea74fd2419702a004da11e0ea"
  },
  "kernelspec": {
   "display_name": "Python 3.7.9 64-bit",
   "language": "python",
   "name": "python3"
  },
  "language_info": {
   "codemirror_mode": {
    "name": "ipython",
    "version": 3
   },
   "file_extension": ".py",
   "mimetype": "text/x-python",
   "name": "python",
   "nbconvert_exporter": "python",
   "pygments_lexer": "ipython3",
   "version": "3.7.9"
  },
  "orig_nbformat": 4
 },
 "nbformat": 4,
 "nbformat_minor": 2
}
